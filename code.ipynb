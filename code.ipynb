{
 "cells": [
  {
   "cell_type": "markdown",
   "metadata": {},
   "source": [
    "<img src=\"http://imgur.com/1ZcRyrc.png\" style=\"float: left; margin: 20px; height: 55px\">\n",
    "\n",
    "# Project 1: Standardized Test Analysis"
   ]
  },
  {
   "cell_type": "markdown",
   "metadata": {},
   "source": [
    "## Problem Statement"
   ]
  },
  {
   "cell_type": "markdown",
   "metadata": {},
   "source": [
    "Mathnasium is a private tutoring company, and currently has a new SAT/ACT Test Prep Program which they are looking forward to roll out this year. For the year 2020, they would like to target several states and dedicate a significant amount of their funds to advertising in these states. The goal is to increase sales for the SAT/ACT Test Prep Program. This project aims to identify ten states, which have had the lowest SAT/ACT scores in 2019, highest participation rates in 2019, states where the SAT and/or ACT is mandatory, so that these states can be targeted for advertisement and marketing."
   ]
  },
  {
   "cell_type": "markdown",
   "metadata": {},
   "source": [
    "### Contents:\n",
    "- [Background](#Background)\n",
    "- [Data Import & Cleaning](#Data-Import-and-Cleaning)\n",
    "- [Exploratory Data Analysis](#Exploratory-Data-Analysis)\n",
    "- [Data Visualization](#Data-Visualization)\n",
    "- [Conclusions and Recommendations](#Conclusions-and-Recommendations)"
   ]
  },
  {
   "cell_type": "markdown",
   "metadata": {},
   "source": [
    "## Background"
   ]
  },
  {
   "cell_type": "markdown",
   "metadata": {},
   "source": [
    "The SAT/ACT are two standardized tests taken by high school students. Most colleges use the scores of one or both of these exams to make admissions decisions. \n",
    "\n",
    "The SAT is a multiple choice, pencil-and-paper test, created and administered by the College Board. It has two mandatory sections, Math and Evidence-Based Reading and Writing (ERW), and one optional Essay section. Each section of the SAT is scored on a 200 to 800 point scale, and the total SAT score is the sum of these sections. The highest possible score is 1600. The optional Essay section receives a separate score. Read more about the SAT here - [What is the SAT?](https://www.princetonreview.com/college/sat-information)\n",
    "\n",
    "The ACT is a multiple choice, pencil-and-paper test administered by ACT, Inc. It has 4 mandatory sections - English, Math, Reading, Science - and one optional Writing section. Each section is scored on a 1 to 36 point scale. The composite ACT score is the avarage of the four section scores, also on a scale from 1 to 36. The optional Writing section receives a separate score. Read more about the ACT here - [What is the ACT?](https://www.princetonreview.com/college/act-information)\n",
    "\n",
    "Some states have legislature that make one of these two exams mandatory for high school students. For example, in Alabama the ACT exam is mandatory. In Colorado, the SAT exam is mandatory. Read more about each state's specific requirements here: \n",
    "\n",
    "[Which states require the ACT](https://magoosh.com/hs/act/2017/states-that-require-the-act-or-sat/)\n",
    "\n",
    "[Which states require the SAT](https://blog.prepscholar.com/which-states-require-the-sat)\n",
    "\n",
    "Some states will offer the ACT or the SAT exams to high school students for free. For example, the ACT is free in Alabama, and the SAT is free in Arizona. Read more about each state's specific offer here: [Source](https://www.collegeraptor.com/getting-in/articles/act-sat/states-act-sat-given-free/)"
   ]
  },
  {
   "cell_type": "markdown",
   "metadata": {},
   "source": [
    "## Data\n",
    "\n",
    "**Datasets provided in-house:**\n",
    "\n",
    "*act_2019.csv* <br>\n",
    "\n",
    "This dataset contains the ACT scores by state for the year 2019. <br>\n",
    "State - name of the state <br>\n",
    "Participation - percent of high school graduates who were tested <br>\n",
    "Composite - the average of composite scores for all high school graduates who were tested <br>\n",
    "\n",
    "*sat_2019.csv* <br>\n",
    "\n",
    "This dataset contains the SAT scores by state for the year 2019. <br>\n",
    "State - name of the state <br>\n",
    "Participation - percent of high school graduates who were tested <br>\n",
    "ERW - the average of ERW (English/Reading/Writing) scores for all grads tested <br>\n",
    "Math - the average of Math scores for all grads tested <br>\n",
    "Total - the total of the ERW and Math scores above <br>\n",
    "\n",
    "**Datasets from external resources:**\n",
    "\n",
    "*cost_2019.csv* <br>\n",
    "\n",
    "This dataset shows what states offer the ACT and/or SAT exam to high school students for free.  \n",
    "state - name of the state  \n",
    "act_free - 1 means ACT is offered for free in the state  \n",
    "sat_free - 1 means SAT is offered for free in the state  \n",
    "\n",
    "*required_2019.csv*  \n",
    "\n",
    "This dataset shows what states require their high school students to take the ACT or the SAT exam.  \n",
    "state - name of the state  \n",
    "act_required - 1 means ACT is mandatory in the state  \n",
    "sat_required - 1 means SAT is mandatory in the state  "
   ]
  },
  {
   "cell_type": "markdown",
   "metadata": {},
   "source": [
    "### Outside Research"
   ]
  },
  {
   "cell_type": "markdown",
   "metadata": {},
   "source": [
    "[Mathnasium is offering SAT/ACT Test Preparation Programs](https://www.mathnasium.com/sat-act-test-prep)\n",
    "    \n",
    "[Some states offer the ACT and/or SAT exam for free to their high school students](https://www.collegeraptor.com/getting-in/articles/act-sat/states-act-sat-given-free/)\n",
    "    \n",
    "[Some states mandate the ACT and/or SAT as a mandatory exam, which could affect participation](https://blog.prepscholar.com/which-states-require-the-sat)"
   ]
  },
  {
   "cell_type": "markdown",
   "metadata": {},
   "source": [
    "### Coding Challenges\n",
    "\n",
    "1. Manually calculate mean:\n",
    "\n",
    "    Write a function that takes in values and returns the mean of the values. Create a list of numbers that you test on your function to check to make sure your function works!\n",
    "    \n",
    "    *Note*: Do not use any mean methods built-in to any Python libraries to do this! This should be done without importing any additional libraries."
   ]
  },
  {
   "cell_type": "code",
   "execution_count": 1,
   "metadata": {},
   "outputs": [
    {
     "name": "stdout",
     "output_type": "stream",
     "text": [
      "True\n",
      "True\n",
      "True\n",
      "True\n"
     ]
    }
   ],
   "source": [
    "# Code:\n",
    "def calc_mean(values):\n",
    "    s = 0 # sum of all values\n",
    "    n = len(values) # number of values\n",
    "    if n == 0: # return an error if list is empty\n",
    "        return 'Error. List of values cannot be empty.'\n",
    "    for i in range(n): # calculates the sum of all values\n",
    "        s += values[i]\n",
    "    m = s/n # mean = sum of all values divided by number of values\n",
    "    return m # return mean\n",
    "\n",
    "# Expected results:\n",
    "# [1,2,3,4] --> 2.5\n",
    "# [10,20,10,0] --> 10.0\n",
    "# [1,1,1,1,1,1,1,1] --> 1.0\n",
    "# [] --> 'Error. List of values cannot be empty.'\n",
    "\n",
    "# Test:\n",
    "print (calc_mean([1,2,3,4]) == 2.5) # True, if passes\n",
    "print (calc_mean([10,20,10,0]) == 10.0) # True, if passes\n",
    "print (calc_mean([1,1,1,1,1,1,1,1]) == 1.0) # True, if passes\n",
    "print (calc_mean([]) == 'Error. List of values cannot be empty.') # True, if passes\n",
    "\n",
    "# If all test results are True, function works!"
   ]
  },
  {
   "cell_type": "markdown",
   "metadata": {},
   "source": [
    "2. Manually calculate standard deviation:\n",
    "\n",
    "    The formula for standard deviation is below:\n",
    "\n",
    "    $$\\sigma = \\sqrt{\\frac{1}{n}\\sum_{i=1}^n(x_i - \\mu)^2}$$\n",
    "\n",
    "    Where $x_i$ represents each value in the dataset, $\\mu$ represents the mean of all values in the dataset and $n$ represents the number of values in the dataset.\n",
    "\n",
    "    Write a function that takes in values and returns the standard deviation of the values using the formula above. Hint: use the function you wrote above to calculate the mean! Use the list of numbers you created above to test on your function.\n",
    "    \n",
    "    *Note*: Do not use any standard deviation methods built-in to any Python libraries to do this! This should be done without importing any additional libraries."
   ]
  },
  {
   "cell_type": "code",
   "execution_count": 2,
   "metadata": {},
   "outputs": [
    {
     "name": "stdout",
     "output_type": "stream",
     "text": [
      "True\n",
      "True\n",
      "True\n",
      "True\n"
     ]
    }
   ],
   "source": [
    "# Code:\n",
    "def calc_st_dev(values):\n",
    "    n = len(values) # number of values\n",
    "    if n == 0: # list passed as parameter cannot be empty\n",
    "        return 'Error. List of values cannot be empty.'\n",
    "    st_dev = 0 # standard deviation to be calculated\n",
    "    ss = 0 # sum of differences squared\n",
    "    mean = calc_mean(values) # mean of all values\n",
    "    for i in range(n): # calculates sum of differences squared\n",
    "        ss += (values[i] - mean) ** 2\n",
    "    st_dev = ((1/n)*ss) ** 0.5 # calculates the st.dev. using the above formula\n",
    "    return round(st_dev,5)\n",
    "\n",
    "# Expected results:\n",
    "# [1,2,3,4] --> 1.11803\n",
    "# [10,20,10,0] --> 7.07107\n",
    "# [1,1,1,1,1,1,1,1] --> 0\n",
    "# [] --> 'Error. List of values cannot be empty.'\n",
    "\n",
    "print(calc_st_dev([1,2,3,4]) == 1.11803)\n",
    "print(calc_st_dev([10,20,10,0]) == 7.07107)\n",
    "print(calc_st_dev([1,1,1,1,1,1,1,1]) == 0)\n",
    "print(calc_st_dev([]) == 'Error. List of values cannot be empty.')\n",
    "\n",
    "# If all test results are True, function works!"
   ]
  },
  {
   "cell_type": "markdown",
   "metadata": {},
   "source": [
    "3. Data cleaning function:\n",
    "    \n",
    "    Write a function that takes in a string that is a number and a percent symbol (ex. '50%', '30.5%', etc.) and converts this to a float that is the decimal approximation of the percent. For example, inputting '50%' in your function should return 0.5, '30.5%' should return 0.305, etc. Make sure to test your function to make sure it works!\n",
    "\n",
    "You will use these functions later on in the project!"
   ]
  },
  {
   "cell_type": "code",
   "execution_count": 3,
   "metadata": {},
   "outputs": [
    {
     "name": "stdout",
     "output_type": "stream",
     "text": [
      "True\n",
      "True\n",
      "True\n",
      "True\n"
     ]
    }
   ],
   "source": [
    "# Code:\n",
    "def str_to_float(string):\n",
    "    # replace % with blank in string parameter\n",
    "    # convert new string without % character into numerical value\n",
    "    # divide numerical value by 100 to get equivalent decimal value\n",
    "    if type(string) != type('%'):\n",
    "        return string\n",
    "    return float(string.replace('%',''))/100\n",
    "\n",
    "# Expected results\n",
    "# '50%' --> 0.5\n",
    "# '30.5%' --> 0.305\n",
    "# '17.25' --> 0.1725\n",
    "# '0%' --> 0\n",
    "\n",
    "print (str_to_float('50%') == 0.5)\n",
    "print (str_to_float('30.5%') == 0.305)\n",
    "print (str_to_float('17.25%') == 0.1725)\n",
    "print (str_to_float('0%') == 0)\n",
    "\n",
    "# If all test results are True, function works!"
   ]
  },
  {
   "cell_type": "markdown",
   "metadata": {},
   "source": [
    "*All libraries used should be added here*"
   ]
  },
  {
   "cell_type": "code",
   "execution_count": 4,
   "metadata": {},
   "outputs": [],
   "source": [
    "# Imports:\n",
    "import numpy as np\n",
    "import pandas as pd\n",
    "import matplotlib.pyplot as plt\n",
    "%matplotlib inline"
   ]
  },
  {
   "cell_type": "markdown",
   "metadata": {},
   "source": [
    "## Data Import and Cleaning"
   ]
  },
  {
   "cell_type": "code",
   "execution_count": 5,
   "metadata": {},
   "outputs": [],
   "source": [
    "# Code:\n",
    "\n",
    "# Import the datasets selected for this project\n",
    "data_path = '~/Downloads/DSI/project_1/data/'\n",
    "\n",
    "act_2019 = pd.read_csv(data_path + 'act_2019.csv')\n",
    "sat_2019 = pd.read_csv(data_path + 'sat_2019.csv')\n",
    "cost_2019 = pd.read_csv(data_path + 'cost_2019.csv')\n",
    "req_2019 = pd.read_csv(data_path + 'required_2019.csv')"
   ]
  },
  {
   "cell_type": "code",
   "execution_count": 6,
   "metadata": {},
   "outputs": [
    {
     "name": "stdout",
     "output_type": "stream",
     "text": [
      "|    | State      | Participation   |   Composite |\n",
      "|---:|:-----------|:----------------|------------:|\n",
      "|  0 | Alabama    | 100%            |        18.9 |\n",
      "|  1 | Alaska     | 38%             |        20.1 |\n",
      "|  2 | Arizona    | 73%             |        19   |\n",
      "|  3 | Arkansas   | 100%            |        19.3 |\n",
      "|  4 | California | 23%             |        22.6 |\n",
      "\n",
      "|    | State      | Participation   |   ERW |   Math |   Total |\n",
      "|---:|:-----------|:----------------|------:|-------:|--------:|\n",
      "|  0 | Alabama    | 5%              |   593 |    572 |    1165 |\n",
      "|  1 | Alaska     | 38%             |   547 |    533 |    1080 |\n",
      "|  2 | Arizona    | 30%             |   563 |    553 |    1116 |\n",
      "|  3 | Arkansas   | 3%              |   614 |    594 |    1208 |\n",
      "|  4 | California | 53%             |   531 |    524 |    1055 |\n",
      "\n",
      "|    | state      |   act_free |   sat_free |\n",
      "|---:|:-----------|-----------:|-----------:|\n",
      "|  0 | Alabama    |          1 |          0 |\n",
      "|  1 | Alaska     |          0 |          0 |\n",
      "|  2 | Arizona    |          0 |          1 |\n",
      "|  3 | Arkansas   |          1 |          0 |\n",
      "|  4 | California |          0 |          0 |\n",
      "\n",
      "|    | state      |   act_required |   sat_required |\n",
      "|---:|:-----------|---------------:|---------------:|\n",
      "|  0 | Alabama    |              1 |              0 |\n",
      "|  1 | Alaska     |              0 |              0 |\n",
      "|  2 | Arizona    |              0 |              0 |\n",
      "|  3 | Arkansas   |              0 |              0 |\n",
      "|  4 | California |              0 |              0 |\n"
     ]
    }
   ],
   "source": [
    "# 1. Print the first 5 rows for each dataframe\n",
    "\n",
    "print (act_2019.head().to_markdown())\n",
    "print ()\n",
    "print (sat_2019.head().to_markdown())\n",
    "print ()\n",
    "print (cost_2019.head().to_markdown())\n",
    "print ()\n",
    "print (req_2019.head().to_markdown())"
   ]
  },
  {
   "cell_type": "code",
   "execution_count": 7,
   "metadata": {},
   "outputs": [
    {
     "name": "stdout",
     "output_type": "stream",
     "text": [
      "|               |   0 |\n",
      "|:--------------|----:|\n",
      "| State         |   0 |\n",
      "| Participation |   0 |\n",
      "| Composite     |   0 |\n",
      "\n",
      "|               |   0 |\n",
      "|:--------------|----:|\n",
      "| State         |   0 |\n",
      "| Participation |   0 |\n",
      "| ERW           |   0 |\n",
      "| Math          |   0 |\n",
      "| Total         |   0 |\n",
      "\n",
      "|          |   0 |\n",
      "|:---------|----:|\n",
      "| state    |   0 |\n",
      "| act_free |   0 |\n",
      "| sat_free |   0 |\n",
      "\n",
      "|              |   0 |\n",
      "|:-------------|----:|\n",
      "| state        |   0 |\n",
      "| act_required |   0 |\n",
      "| sat_required |   0 |\n",
      "\n"
     ]
    }
   ],
   "source": [
    "# 2. Check for missing values\n",
    "\n",
    "print (act_2019.isnull().sum().to_markdown(), end='\\n\\n')\n",
    "print (sat_2019.isnull().sum().to_markdown(), end='\\n\\n')\n",
    "print (cost_2019.isnull().sum().to_markdown(), end='\\n\\n')\n",
    "print (req_2019.isnull().sum().to_markdown(), end='\\n\\n')\n",
    "\n",
    "# there are no missing values"
   ]
  },
  {
   "cell_type": "code",
   "execution_count": 8,
   "metadata": {},
   "outputs": [
    {
     "name": "stdout",
     "output_type": "stream",
     "text": [
      "|        | State       | Participation   |   Composite |\n",
      "|:-------|:------------|:----------------|------------:|\n",
      "| count  | 52          | 52              |    52       |\n",
      "| unique | 52          | 35              |   nan       |\n",
      "| top    | Mississippi | 100%            |   nan       |\n",
      "| freq   | 1           | 15              |   nan       |\n",
      "| mean   | nan         | nan             |    21.45    |\n",
      "| std    | nan         | nan             |     2.17549 |\n",
      "| min    | nan         | nan             |    17.9     |\n",
      "| 25%    | nan         | nan             |    19.8     |\n",
      "| 50%    | nan         | nan             |    20.95    |\n",
      "| 75%    | nan         | nan             |    23.65    |\n",
      "| max    | nan         | nan             |    25.5     |\n",
      "\n",
      "|        | State       | Participation   |      ERW |     Math |     Total |\n",
      "|:-------|:------------|:----------------|---------:|---------:|----------:|\n",
      "| count  | 51          | 51              |  51      |  51      |   51      |\n",
      "| unique | 51          | 34              | nan      | nan      |  nan      |\n",
      "| top    | Mississippi | 3%              | nan      | nan      |  nan      |\n",
      "| freq   | 1           | 8               | nan      | nan      |  nan      |\n",
      "| mean   | nan         | nan             | 569.118  | 556.882  | 1126.1    |\n",
      "| std    | nan         | nan             |  45.6669 |  47.1214 |   92.4948 |\n",
      "| min    | nan         | nan             | 482      | 468      |  950      |\n",
      "| 25%    | nan         | nan             | 533.5    | 523.5    | 1055.5    |\n",
      "| 50%    | nan         | nan             | 559      | 548      | 1107      |\n",
      "| 75%    | nan         | nan             | 613      | 599      | 1212      |\n",
      "| max    | nan         | nan             | 644      | 651      | 1295      |\n",
      "\n",
      "|        | state       |   act_free |   sat_free |\n",
      "|:-------|:------------|-----------:|-----------:|\n",
      "| count  | 51          |  51        |  51        |\n",
      "| unique | 51          | nan        | nan        |\n",
      "| top    | Mississippi | nan        | nan        |\n",
      "| freq   | 1           | nan        | nan        |\n",
      "| mean   | nan         |   0.313725 |   0.333333 |\n",
      "| std    | nan         |   0.468623 |   0.476095 |\n",
      "| min    | nan         |   0        |   0        |\n",
      "| 25%    | nan         |   0        |   0        |\n",
      "| 50%    | nan         |   0        |   0        |\n",
      "| 75%    | nan         |   1        |   1        |\n",
      "| max    | nan         |   1        |   1        |\n",
      "\n",
      "|        | state       |   act_required |   sat_required |\n",
      "|:-------|:------------|---------------:|---------------:|\n",
      "| count  | 51          |      51        |      51        |\n",
      "| unique | 51          |     nan        |     nan        |\n",
      "| top    | Mississippi |     nan        |     nan        |\n",
      "| freq   | 1           |     nan        |     nan        |\n",
      "| mean   | nan         |       0.235294 |       0.294118 |\n",
      "| std    | nan         |       0.428403 |       0.460179 |\n",
      "| min    | nan         |       0        |       0        |\n",
      "| 25%    | nan         |       0        |       0        |\n",
      "| 50%    | nan         |       0        |       0        |\n",
      "| 75%    | nan         |       0        |       1        |\n",
      "| max    | nan         |       1        |       1        |\n",
      "\n"
     ]
    }
   ],
   "source": [
    "print (act_2019.describe(include='all').to_markdown(), end='\\n\\n')\n",
    "print (sat_2019.describe(include='all').to_markdown(), end='\\n\\n')\n",
    "print (cost_2019.describe(include='all').to_markdown(), end='\\n\\n')\n",
    "print (req_2019.describe(include='all').to_markdown(), end='\\n\\n')"
   ]
  },
  {
   "cell_type": "code",
   "execution_count": 9,
   "metadata": {},
   "outputs": [],
   "source": [
    "# 3. Check for any obvious issues with the observations\n",
    "# No issues found.\n",
    "\n",
    "# 4. Fix any errors you identified in steps 2-3\n",
    "# No issues found in steps 2-3."
   ]
  },
  {
   "cell_type": "code",
   "execution_count": 10,
   "metadata": {},
   "outputs": [
    {
     "name": "stdout",
     "output_type": "stream",
     "text": [
      "|               | 0       |\n",
      "|:--------------|:--------|\n",
      "| State         | object  |\n",
      "| Participation | object  |\n",
      "| Composite     | float64 |\n",
      "\n",
      "|               | 0      |\n",
      "|:--------------|:-------|\n",
      "| State         | object |\n",
      "| Participation | object |\n",
      "| ERW           | int64  |\n",
      "| Math          | int64  |\n",
      "| Total         | int64  |\n",
      "\n",
      "|          | 0      |\n",
      "|:---------|:-------|\n",
      "| state    | object |\n",
      "| act_free | int64  |\n",
      "| sat_free | int64  |\n",
      "\n",
      "|              | 0      |\n",
      "|:-------------|:-------|\n",
      "| state        | object |\n",
      "| act_required | int64  |\n",
      "| sat_required | int64  |\n",
      "\n"
     ]
    }
   ],
   "source": [
    "# 5. Display the data types of each feature\n",
    "\n",
    "print (act_2019.dtypes.to_markdown(), end='\\n\\n')\n",
    "print (sat_2019.dtypes.to_markdown(), end='\\n\\n')\n",
    "print (cost_2019.dtypes.to_markdown(), end='\\n\\n')\n",
    "print (req_2019.dtypes.to_markdown(), end='\\n\\n')\n",
    "\n",
    "# Participation should be float."
   ]
  },
  {
   "cell_type": "code",
   "execution_count": 11,
   "metadata": {},
   "outputs": [
    {
     "name": "stdout",
     "output_type": "stream",
     "text": [
      "|               | 0       |\n",
      "|:--------------|:--------|\n",
      "| State         | object  |\n",
      "| Participation | float64 |\n",
      "| Composite     | float64 |\n",
      "\n",
      "|               | 0       |\n",
      "|:--------------|:--------|\n",
      "| State         | object  |\n",
      "| Participation | float64 |\n",
      "| ERW           | int64   |\n",
      "| Math          | int64   |\n",
      "| Total         | int64   |\n",
      "\n",
      "|          | 0      |\n",
      "|:---------|:-------|\n",
      "| state    | object |\n",
      "| act_free | int64  |\n",
      "| sat_free | int64  |\n",
      "\n",
      "|              | 0      |\n",
      "|:-------------|:-------|\n",
      "| state        | object |\n",
      "| act_required | int64  |\n",
      "| sat_required | int64  |\n",
      "\n"
     ]
    }
   ],
   "source": [
    "# 6. Fix any incorrect data types found in step 5\n",
    "\n",
    "act_2019['Participation'] = act_2019['Participation'].apply(str_to_float)\n",
    "sat_2019['Participation'] = sat_2019['Participation'].apply(str_to_float)\n",
    "\n",
    "print (act_2019.dtypes.to_markdown(), end='\\n\\n')\n",
    "print (sat_2019.dtypes.to_markdown(), end='\\n\\n')\n",
    "print (cost_2019.dtypes.to_markdown(), end='\\n\\n')\n",
    "print (req_2019.dtypes.to_markdown(), end='\\n\\n')\n",
    "\n",
    "# Participation is now float"
   ]
  },
  {
   "cell_type": "code",
   "execution_count": 12,
   "metadata": {},
   "outputs": [],
   "source": [
    "# 7. Rename Columns\n",
    "\n",
    "new_column_dict = {\n",
    "    'State' : 'state', \n",
    "    'Participation' : 'participation',\n",
    "    'ERW' : 'erw', \n",
    "    'Math' : 'math', \n",
    "    'Composite' : 'composite',\n",
    "    'Total' : 'total',\n",
    "}\n",
    "\n",
    "act_2019.rename(columns = new_column_dict, inplace=True)\n",
    "sat_2019.rename(columns = new_column_dict, inplace=True)"
   ]
  },
  {
   "cell_type": "code",
   "execution_count": 13,
   "metadata": {},
   "outputs": [
    {
     "data": {
      "text/html": [
       "<div>\n",
       "<style scoped>\n",
       "    .dataframe tbody tr th:only-of-type {\n",
       "        vertical-align: middle;\n",
       "    }\n",
       "\n",
       "    .dataframe tbody tr th {\n",
       "        vertical-align: top;\n",
       "    }\n",
       "\n",
       "    .dataframe thead th {\n",
       "        text-align: right;\n",
       "    }\n",
       "</style>\n",
       "<table border=\"1\" class=\"dataframe\">\n",
       "  <thead>\n",
       "    <tr style=\"text-align: right;\">\n",
       "      <th></th>\n",
       "      <th>state</th>\n",
       "      <th>participation</th>\n",
       "      <th>composite</th>\n",
       "    </tr>\n",
       "  </thead>\n",
       "  <tbody>\n",
       "    <tr>\n",
       "      <th>0</th>\n",
       "      <td>Alabama</td>\n",
       "      <td>1.00</td>\n",
       "      <td>18.9</td>\n",
       "    </tr>\n",
       "    <tr>\n",
       "      <th>1</th>\n",
       "      <td>Alaska</td>\n",
       "      <td>0.38</td>\n",
       "      <td>20.1</td>\n",
       "    </tr>\n",
       "    <tr>\n",
       "      <th>2</th>\n",
       "      <td>Arizona</td>\n",
       "      <td>0.73</td>\n",
       "      <td>19.0</td>\n",
       "    </tr>\n",
       "    <tr>\n",
       "      <th>3</th>\n",
       "      <td>Arkansas</td>\n",
       "      <td>1.00</td>\n",
       "      <td>19.3</td>\n",
       "    </tr>\n",
       "    <tr>\n",
       "      <th>4</th>\n",
       "      <td>California</td>\n",
       "      <td>0.23</td>\n",
       "      <td>22.6</td>\n",
       "    </tr>\n",
       "  </tbody>\n",
       "</table>\n",
       "</div>"
      ],
      "text/plain": [
       "        state  participation  composite\n",
       "0     Alabama           1.00       18.9\n",
       "1      Alaska           0.38       20.1\n",
       "2     Arizona           0.73       19.0\n",
       "3    Arkansas           1.00       19.3\n",
       "4  California           0.23       22.6"
      ]
     },
     "execution_count": 13,
     "metadata": {},
     "output_type": "execute_result"
    }
   ],
   "source": [
    "act_2019.head()"
   ]
  },
  {
   "cell_type": "code",
   "execution_count": 14,
   "metadata": {},
   "outputs": [
    {
     "data": {
      "text/html": [
       "<div>\n",
       "<style scoped>\n",
       "    .dataframe tbody tr th:only-of-type {\n",
       "        vertical-align: middle;\n",
       "    }\n",
       "\n",
       "    .dataframe tbody tr th {\n",
       "        vertical-align: top;\n",
       "    }\n",
       "\n",
       "    .dataframe thead th {\n",
       "        text-align: right;\n",
       "    }\n",
       "</style>\n",
       "<table border=\"1\" class=\"dataframe\">\n",
       "  <thead>\n",
       "    <tr style=\"text-align: right;\">\n",
       "      <th></th>\n",
       "      <th>state</th>\n",
       "      <th>participation</th>\n",
       "      <th>erw</th>\n",
       "      <th>math</th>\n",
       "      <th>total</th>\n",
       "    </tr>\n",
       "  </thead>\n",
       "  <tbody>\n",
       "    <tr>\n",
       "      <th>0</th>\n",
       "      <td>Alabama</td>\n",
       "      <td>0.05</td>\n",
       "      <td>593</td>\n",
       "      <td>572</td>\n",
       "      <td>1165</td>\n",
       "    </tr>\n",
       "    <tr>\n",
       "      <th>1</th>\n",
       "      <td>Alaska</td>\n",
       "      <td>0.38</td>\n",
       "      <td>547</td>\n",
       "      <td>533</td>\n",
       "      <td>1080</td>\n",
       "    </tr>\n",
       "    <tr>\n",
       "      <th>2</th>\n",
       "      <td>Arizona</td>\n",
       "      <td>0.30</td>\n",
       "      <td>563</td>\n",
       "      <td>553</td>\n",
       "      <td>1116</td>\n",
       "    </tr>\n",
       "    <tr>\n",
       "      <th>3</th>\n",
       "      <td>Arkansas</td>\n",
       "      <td>0.03</td>\n",
       "      <td>614</td>\n",
       "      <td>594</td>\n",
       "      <td>1208</td>\n",
       "    </tr>\n",
       "    <tr>\n",
       "      <th>4</th>\n",
       "      <td>California</td>\n",
       "      <td>0.53</td>\n",
       "      <td>531</td>\n",
       "      <td>524</td>\n",
       "      <td>1055</td>\n",
       "    </tr>\n",
       "  </tbody>\n",
       "</table>\n",
       "</div>"
      ],
      "text/plain": [
       "        state  participation  erw  math  total\n",
       "0     Alabama           0.05  593   572   1165\n",
       "1      Alaska           0.38  547   533   1080\n",
       "2     Arizona           0.30  563   553   1116\n",
       "3    Arkansas           0.03  614   594   1208\n",
       "4  California           0.53  531   524   1055"
      ]
     },
     "execution_count": 14,
     "metadata": {},
     "output_type": "execute_result"
    }
   ],
   "source": [
    "sat_2019.head()"
   ]
  },
  {
   "cell_type": "code",
   "execution_count": 15,
   "metadata": {},
   "outputs": [],
   "source": [
    "# 8. Drop unnecessary rows\n",
    "# need to drop the National row, row 51, we currently have 52 rows\n",
    "act_2019.drop([51],inplace=True)"
   ]
  },
  {
   "cell_type": "code",
   "execution_count": 16,
   "metadata": {},
   "outputs": [
    {
     "name": "stdout",
     "output_type": "stream",
     "text": [
      "(51, 3)\n",
      "(51, 5)\n",
      "(51, 3)\n",
      "(51, 3)\n"
     ]
    }
   ],
   "source": [
    "print (act_2019.shape, end='\\n')\n",
    "print (sat_2019.shape, end='\\n')\n",
    "print (cost_2019.shape, end='\\n')\n",
    "print (req_2019.shape, end='\\n')"
   ]
  },
  {
   "cell_type": "code",
   "execution_count": 17,
   "metadata": {},
   "outputs": [],
   "source": [
    "# there are no rows to be dropped from cost_2019 or from req_2019"
   ]
  },
  {
   "cell_type": "code",
   "execution_count": 18,
   "metadata": {},
   "outputs": [],
   "source": [
    "# 9. Merge dataframes that can be merged\n",
    "# No dataframes to merge.\n",
    "\n",
    "df = []\n",
    "df = act_2019.merge(sat_2019,on='state')\n",
    "df = df.rename(columns={'participation_x':'participation_act',\n",
    "                                    'participation_y':'participation_sat'})\n",
    "df = df.merge(cost_2019, on='state')\n",
    "df = df.merge(req_2019, on='state')\n",
    "# df is the only dataframe to work on from here on, and contains all relevant information needed"
   ]
  },
  {
   "cell_type": "code",
   "execution_count": 19,
   "metadata": {},
   "outputs": [
    {
     "data": {
      "text/plain": [
       "state                0\n",
       "participation_act    0\n",
       "composite            0\n",
       "participation_sat    0\n",
       "erw                  0\n",
       "math                 0\n",
       "total                0\n",
       "act_free             0\n",
       "sat_free             0\n",
       "act_required         0\n",
       "sat_required         0\n",
       "dtype: int64"
      ]
     },
     "execution_count": 19,
     "metadata": {},
     "output_type": "execute_result"
    }
   ],
   "source": [
    "df.head() # check a few records\n",
    "df.shape # see the number of lines and columns\n",
    "df.dtypes # verify types look good\n",
    "df.isnull().sum() # check for missing values"
   ]
  },
  {
   "cell_type": "code",
   "execution_count": 20,
   "metadata": {},
   "outputs": [],
   "source": [
    "# 11. Save your cleaned and merged dataframes as csv files\n",
    "\n",
    "df.to_csv(r'./data/act_sat_2019.csv')"
   ]
  },
  {
   "cell_type": "markdown",
   "metadata": {},
   "source": [
    "## Data Dictionary\n",
    "\n",
    "|Feature|Type|Dataset|Description|\n",
    "|---|---|---|---|\n",
    "|state|object|ACT/SAT|The name of the state for which data was recorded.| \n",
    "|act_participation|float|ACT|The percent of high school graduates who took the test in the given state.| \n",
    "|composite|float|ACT|The average composite score for the given state.| \n",
    "|sat_participation|float|SAT|The percent of high school graduates who took the test in the given state.| \n",
    "|erw|int|SAT|The average score in English/Reading/Writing for all students who took the test.| \n",
    "|math|int|SAT|The average score in Math for all students who took the test.|\n",
    "|total|int|SAT|The sum of erw and math.|\n",
    "|act_free|int|ACT|Shows if the ACT exam is free in the state.|\n",
    "|sat_free|int|SAT|Shows if the SAT exam is free in the state.|\n",
    "|act_required|int|ACT|Shows if the ACT exam is mandatory in the state.|\n",
    "|sat_required|int|SAT|Shows if the SAT exam is mandatory in the state.|"
   ]
  },
  {
   "cell_type": "markdown",
   "metadata": {},
   "source": [
    "## Exploratory Data Analysis"
   ]
  },
  {
   "cell_type": "code",
   "execution_count": 21,
   "metadata": {},
   "outputs": [
    {
     "name": "stdout",
     "output_type": "stream",
     "text": [
      "        state  participation_act  composite  participation_sat  erw  math  \\\n",
      "0     Alabama               1.00       18.9               0.05  593   572   \n",
      "1      Alaska               0.38       20.1               0.38  547   533   \n",
      "2     Arizona               0.73       19.0               0.30  563   553   \n",
      "3    Arkansas               1.00       19.3               0.03  614   594   \n",
      "4  California               0.23       22.6               0.53  531   524   \n",
      "\n",
      "   total  act_free  sat_free  act_required  sat_required  \n",
      "0   1165         1         0             1             0  \n",
      "1   1080         0         0             0             0  \n",
      "2   1116         0         1             0             0  \n",
      "3   1208         1         0             0             0  \n",
      "4   1055         0         0             0             0  \n",
      "       participation_act  composite  participation_sat         erw  \\\n",
      "count          51.000000  51.000000          51.000000   51.000000   \n",
      "mean            0.586667  21.464706           0.398039  569.117647   \n",
      "std             0.345159   2.194523           0.352766   45.666901   \n",
      "min             0.060000  17.900000           0.020000  482.000000   \n",
      "25%             0.245000  19.800000           0.040000  533.500000   \n",
      "50%             0.540000  21.100000           0.380000  559.000000   \n",
      "75%             1.000000  23.700000           0.660000  613.000000   \n",
      "max             1.000000  25.500000           1.000000  644.000000   \n",
      "\n",
      "             math        total   act_free   sat_free  act_required  \\\n",
      "count   51.000000    51.000000  51.000000  51.000000     51.000000   \n",
      "mean   556.882353  1126.098039   0.313725   0.333333      0.235294   \n",
      "std     47.121395    92.494812   0.468623   0.476095      0.428403   \n",
      "min    468.000000   950.000000   0.000000   0.000000      0.000000   \n",
      "25%    523.500000  1055.500000   0.000000   0.000000      0.000000   \n",
      "50%    548.000000  1107.000000   0.000000   0.000000      0.000000   \n",
      "75%    599.000000  1212.000000   1.000000   1.000000      0.000000   \n",
      "max    651.000000  1295.000000   1.000000   1.000000      1.000000   \n",
      "\n",
      "       sat_required  \n",
      "count     51.000000  \n",
      "mean       0.294118  \n",
      "std        0.460179  \n",
      "min        0.000000  \n",
      "25%        0.000000  \n",
      "50%        0.000000  \n",
      "75%        1.000000  \n",
      "max        1.000000  \n"
     ]
    }
   ],
   "source": [
    "#Code:\n",
    "\n",
    "# 1. Summary Statistics\n",
    "\n",
    "print (df.head()) # peak at the data\n",
    "print (df.describe())"
   ]
  },
  {
   "cell_type": "code",
   "execution_count": 22,
   "metadata": {},
   "outputs": [
    {
     "data": {
      "text/plain": [
       "{'ACT_participation': 0.34176,\n",
       " 'ACT_composite': 2.1729,\n",
       " 'SAT_participation': 0.34929,\n",
       " 'SAT_erw': 45.21697,\n",
       " 'SAT_math': 46.65713,\n",
       " 'SAT_total': 91.58351,\n",
       " 'ACT_free': 0.46401,\n",
       " 'SAT_free': 0.4714,\n",
       " 'ACT_required': 0.42418,\n",
       " 'SAT_required': 0.45565}"
      ]
     },
     "execution_count": 22,
     "metadata": {},
     "output_type": "execute_result"
    }
   ],
   "source": [
    "# 2. Use a dictionary comprehension to apply the standard deviation function you create in part 1 to \n",
    "# each numeric column in the dataframe. No loops.\n",
    "# calc_st_dev\n",
    "\n",
    "{'ACT_participation' : calc_st_dev(df['participation_act']),\n",
    "     'ACT_composite' : calc_st_dev(df['composite']),\n",
    "     'SAT_participation' : calc_st_dev(df['participation_sat']),\n",
    "     'SAT_erw' : calc_st_dev(df['erw']),\n",
    "     'SAT_math' : calc_st_dev(df['math']),\n",
    "     'SAT_total' : calc_st_dev(df['total']),\n",
    "     'ACT_free' : calc_st_dev(df['act_free']),\n",
    "     'SAT_free' : calc_st_dev(df['sat_free']),\n",
    "     'ACT_required' : calc_st_dev(df['act_required']),\n",
    "     'SAT_required' : calc_st_dev(df['sat_required'])\n",
    "    }"
   ]
  },
  {
   "cell_type": "code",
   "execution_count": 23,
   "metadata": {},
   "outputs": [
    {
     "data": {
      "text/html": [
       "<div>\n",
       "<style scoped>\n",
       "    .dataframe tbody tr th:only-of-type {\n",
       "        vertical-align: middle;\n",
       "    }\n",
       "\n",
       "    .dataframe tbody tr th {\n",
       "        vertical-align: top;\n",
       "    }\n",
       "\n",
       "    .dataframe thead th {\n",
       "        text-align: right;\n",
       "    }\n",
       "</style>\n",
       "<table border=\"1\" class=\"dataframe\">\n",
       "  <thead>\n",
       "    <tr style=\"text-align: right;\">\n",
       "      <th></th>\n",
       "      <th>state</th>\n",
       "      <th>composite</th>\n",
       "    </tr>\n",
       "  </thead>\n",
       "  <tbody>\n",
       "    <tr>\n",
       "      <th>28</th>\n",
       "      <td>Nevada</td>\n",
       "      <td>17.9</td>\n",
       "    </tr>\n",
       "    <tr>\n",
       "      <th>24</th>\n",
       "      <td>Mississippi</td>\n",
       "      <td>18.4</td>\n",
       "    </tr>\n",
       "    <tr>\n",
       "      <th>40</th>\n",
       "      <td>South Carolina</td>\n",
       "      <td>18.8</td>\n",
       "    </tr>\n",
       "    <tr>\n",
       "      <th>18</th>\n",
       "      <td>Louisiana</td>\n",
       "      <td>18.8</td>\n",
       "    </tr>\n",
       "    <tr>\n",
       "      <th>0</th>\n",
       "      <td>Alabama</td>\n",
       "      <td>18.9</td>\n",
       "    </tr>\n",
       "    <tr>\n",
       "      <th>36</th>\n",
       "      <td>Oklahoma</td>\n",
       "      <td>18.9</td>\n",
       "    </tr>\n",
       "    <tr>\n",
       "      <th>2</th>\n",
       "      <td>Arizona</td>\n",
       "      <td>19.0</td>\n",
       "    </tr>\n",
       "    <tr>\n",
       "      <th>33</th>\n",
       "      <td>North Carolina</td>\n",
       "      <td>19.0</td>\n",
       "    </tr>\n",
       "    <tr>\n",
       "      <th>11</th>\n",
       "      <td>Hawaii</td>\n",
       "      <td>19.0</td>\n",
       "    </tr>\n",
       "    <tr>\n",
       "      <th>3</th>\n",
       "      <td>Arkansas</td>\n",
       "      <td>19.3</td>\n",
       "    </tr>\n",
       "  </tbody>\n",
       "</table>\n",
       "</div>"
      ],
      "text/plain": [
       "             state  composite\n",
       "28          Nevada       17.9\n",
       "24     Mississippi       18.4\n",
       "40  South Carolina       18.8\n",
       "18       Louisiana       18.8\n",
       "0          Alabama       18.9\n",
       "36        Oklahoma       18.9\n",
       "2          Arizona       19.0\n",
       "33  North Carolina       19.0\n",
       "11          Hawaii       19.0\n",
       "3         Arkansas       19.3"
      ]
     },
     "execution_count": 23,
     "metadata": {},
     "output_type": "execute_result"
    }
   ],
   "source": [
    "# 3. Investigate trends in the data\n",
    "\n",
    "# Which states have the lowest ACT scores?\n",
    "df[['state','composite']].sort_values('composite',ascending=True).head(10)"
   ]
  },
  {
   "cell_type": "markdown",
   "metadata": {},
   "source": [
    "**States with the lowest ACT scores.**"
   ]
  },
  {
   "cell_type": "code",
   "execution_count": 24,
   "metadata": {},
   "outputs": [
    {
     "data": {
      "text/html": [
       "<div>\n",
       "<style scoped>\n",
       "    .dataframe tbody tr th:only-of-type {\n",
       "        vertical-align: middle;\n",
       "    }\n",
       "\n",
       "    .dataframe tbody tr th {\n",
       "        vertical-align: top;\n",
       "    }\n",
       "\n",
       "    .dataframe thead th {\n",
       "        text-align: right;\n",
       "    }\n",
       "</style>\n",
       "<table border=\"1\" class=\"dataframe\">\n",
       "  <thead>\n",
       "    <tr style=\"text-align: right;\">\n",
       "      <th></th>\n",
       "      <th>state</th>\n",
       "      <th>total</th>\n",
       "    </tr>\n",
       "  </thead>\n",
       "  <tbody>\n",
       "    <tr>\n",
       "      <th>8</th>\n",
       "      <td>District of Columbia</td>\n",
       "      <td>950</td>\n",
       "    </tr>\n",
       "    <tr>\n",
       "      <th>7</th>\n",
       "      <td>Delaware</td>\n",
       "      <td>996</td>\n",
       "    </tr>\n",
       "    <tr>\n",
       "      <th>12</th>\n",
       "      <td>Idaho</td>\n",
       "      <td>1005</td>\n",
       "    </tr>\n",
       "    <tr>\n",
       "      <th>22</th>\n",
       "      <td>Michigan</td>\n",
       "      <td>1005</td>\n",
       "    </tr>\n",
       "    <tr>\n",
       "      <th>19</th>\n",
       "      <td>Maine</td>\n",
       "      <td>1012</td>\n",
       "    </tr>\n",
       "    <tr>\n",
       "      <th>9</th>\n",
       "      <td>Florida</td>\n",
       "      <td>1017</td>\n",
       "    </tr>\n",
       "    <tr>\n",
       "      <th>43</th>\n",
       "      <td>Texas</td>\n",
       "      <td>1020</td>\n",
       "    </tr>\n",
       "    <tr>\n",
       "      <th>6</th>\n",
       "      <td>Connecticut</td>\n",
       "      <td>1041</td>\n",
       "    </tr>\n",
       "    <tr>\n",
       "      <th>36</th>\n",
       "      <td>Oklahoma</td>\n",
       "      <td>1047</td>\n",
       "    </tr>\n",
       "    <tr>\n",
       "      <th>10</th>\n",
       "      <td>Georgia</td>\n",
       "      <td>1050</td>\n",
       "    </tr>\n",
       "  </tbody>\n",
       "</table>\n",
       "</div>"
      ],
      "text/plain": [
       "                   state  total\n",
       "8   District of Columbia    950\n",
       "7               Delaware    996\n",
       "12                 Idaho   1005\n",
       "22              Michigan   1005\n",
       "19                 Maine   1012\n",
       "9                Florida   1017\n",
       "43                 Texas   1020\n",
       "6            Connecticut   1041\n",
       "36              Oklahoma   1047\n",
       "10               Georgia   1050"
      ]
     },
     "execution_count": 24,
     "metadata": {},
     "output_type": "execute_result"
    }
   ],
   "source": [
    "# Which states have the lowest SAT scores?\n",
    "df[['state','total']].sort_values('total',ascending=True).head(10)\n",
    "# Top 10 states with the lowest total SAT scores"
   ]
  },
  {
   "cell_type": "markdown",
   "metadata": {},
   "source": [
    "**States with the lowest SAT scores.**"
   ]
  },
  {
   "cell_type": "code",
   "execution_count": 25,
   "metadata": {},
   "outputs": [
    {
     "data": {
      "text/html": [
       "<div>\n",
       "<style scoped>\n",
       "    .dataframe tbody tr th:only-of-type {\n",
       "        vertical-align: middle;\n",
       "    }\n",
       "\n",
       "    .dataframe tbody tr th {\n",
       "        vertical-align: top;\n",
       "    }\n",
       "\n",
       "    .dataframe thead th {\n",
       "        text-align: right;\n",
       "    }\n",
       "</style>\n",
       "<table border=\"1\" class=\"dataframe\">\n",
       "  <thead>\n",
       "    <tr style=\"text-align: right;\">\n",
       "      <th></th>\n",
       "      <th>state</th>\n",
       "      <th>participation_act</th>\n",
       "    </tr>\n",
       "  </thead>\n",
       "  <tbody>\n",
       "    <tr>\n",
       "      <th>19</th>\n",
       "      <td>Maine</td>\n",
       "      <td>0.06</td>\n",
       "    </tr>\n",
       "    <tr>\n",
       "      <th>39</th>\n",
       "      <td>Rhode Island</td>\n",
       "      <td>0.12</td>\n",
       "    </tr>\n",
       "    <tr>\n",
       "      <th>7</th>\n",
       "      <td>Delaware</td>\n",
       "      <td>0.13</td>\n",
       "    </tr>\n",
       "    <tr>\n",
       "      <th>29</th>\n",
       "      <td>New Hampshire</td>\n",
       "      <td>0.14</td>\n",
       "    </tr>\n",
       "    <tr>\n",
       "      <th>38</th>\n",
       "      <td>Pennsylvania</td>\n",
       "      <td>0.17</td>\n",
       "    </tr>\n",
       "    <tr>\n",
       "      <th>22</th>\n",
       "      <td>Michigan</td>\n",
       "      <td>0.19</td>\n",
       "    </tr>\n",
       "    <tr>\n",
       "      <th>45</th>\n",
       "      <td>Vermont</td>\n",
       "      <td>0.20</td>\n",
       "    </tr>\n",
       "    <tr>\n",
       "      <th>46</th>\n",
       "      <td>Virginia</td>\n",
       "      <td>0.21</td>\n",
       "    </tr>\n",
       "    <tr>\n",
       "      <th>21</th>\n",
       "      <td>Massachusetts</td>\n",
       "      <td>0.21</td>\n",
       "    </tr>\n",
       "    <tr>\n",
       "      <th>32</th>\n",
       "      <td>New York</td>\n",
       "      <td>0.22</td>\n",
       "    </tr>\n",
       "  </tbody>\n",
       "</table>\n",
       "</div>"
      ],
      "text/plain": [
       "            state  participation_act\n",
       "19          Maine               0.06\n",
       "39   Rhode Island               0.12\n",
       "7        Delaware               0.13\n",
       "29  New Hampshire               0.14\n",
       "38   Pennsylvania               0.17\n",
       "22       Michigan               0.19\n",
       "45        Vermont               0.20\n",
       "46       Virginia               0.21\n",
       "21  Massachusetts               0.21\n",
       "32       New York               0.22"
      ]
     },
     "execution_count": 25,
     "metadata": {},
     "output_type": "execute_result"
    }
   ],
   "source": [
    "# Which states have the lowest ACT participation?\n",
    "df[['state','participation_act']].sort_values('participation_act',ascending=True).head(10)"
   ]
  },
  {
   "cell_type": "markdown",
   "metadata": {},
   "source": [
    "**States with the lowest participation in ACT.**"
   ]
  },
  {
   "cell_type": "code",
   "execution_count": 26,
   "metadata": {},
   "outputs": [
    {
     "data": {
      "text/html": [
       "<div>\n",
       "<style scoped>\n",
       "    .dataframe tbody tr th:only-of-type {\n",
       "        vertical-align: middle;\n",
       "    }\n",
       "\n",
       "    .dataframe tbody tr th {\n",
       "        vertical-align: top;\n",
       "    }\n",
       "\n",
       "    .dataframe thead th {\n",
       "        text-align: right;\n",
       "    }\n",
       "</style>\n",
       "<table border=\"1\" class=\"dataframe\">\n",
       "  <thead>\n",
       "    <tr style=\"text-align: right;\">\n",
       "      <th></th>\n",
       "      <th>state</th>\n",
       "      <th>participation_sat</th>\n",
       "    </tr>\n",
       "  </thead>\n",
       "  <tbody>\n",
       "    <tr>\n",
       "      <th>34</th>\n",
       "      <td>North Dakota</td>\n",
       "      <td>0.02</td>\n",
       "    </tr>\n",
       "    <tr>\n",
       "      <th>24</th>\n",
       "      <td>Mississippi</td>\n",
       "      <td>0.02</td>\n",
       "    </tr>\n",
       "    <tr>\n",
       "      <th>15</th>\n",
       "      <td>Iowa</td>\n",
       "      <td>0.02</td>\n",
       "    </tr>\n",
       "    <tr>\n",
       "      <th>25</th>\n",
       "      <td>Missouri</td>\n",
       "      <td>0.03</td>\n",
       "    </tr>\n",
       "    <tr>\n",
       "      <th>44</th>\n",
       "      <td>Utah</td>\n",
       "      <td>0.03</td>\n",
       "    </tr>\n",
       "    <tr>\n",
       "      <th>41</th>\n",
       "      <td>South Dakota</td>\n",
       "      <td>0.03</td>\n",
       "    </tr>\n",
       "    <tr>\n",
       "      <th>27</th>\n",
       "      <td>Nebraska</td>\n",
       "      <td>0.03</td>\n",
       "    </tr>\n",
       "    <tr>\n",
       "      <th>49</th>\n",
       "      <td>Wisconsin</td>\n",
       "      <td>0.03</td>\n",
       "    </tr>\n",
       "    <tr>\n",
       "      <th>23</th>\n",
       "      <td>Minnesota</td>\n",
       "      <td>0.03</td>\n",
       "    </tr>\n",
       "    <tr>\n",
       "      <th>50</th>\n",
       "      <td>Wyoming</td>\n",
       "      <td>0.03</td>\n",
       "    </tr>\n",
       "  </tbody>\n",
       "</table>\n",
       "</div>"
      ],
      "text/plain": [
       "           state  participation_sat\n",
       "34  North Dakota               0.02\n",
       "24   Mississippi               0.02\n",
       "15          Iowa               0.02\n",
       "25      Missouri               0.03\n",
       "44          Utah               0.03\n",
       "41  South Dakota               0.03\n",
       "27      Nebraska               0.03\n",
       "49     Wisconsin               0.03\n",
       "23     Minnesota               0.03\n",
       "50       Wyoming               0.03"
      ]
     },
     "execution_count": 26,
     "metadata": {},
     "output_type": "execute_result"
    }
   ],
   "source": [
    "# Which states have the lowest SAT participation?\n",
    "df[['state','participation_sat']].sort_values('participation_sat',ascending=True).head(10)"
   ]
  },
  {
   "cell_type": "markdown",
   "metadata": {},
   "source": [
    "**States with the lowest participation in SAT.**"
   ]
  },
  {
   "cell_type": "code",
   "execution_count": 27,
   "metadata": {},
   "outputs": [
    {
     "data": {
      "text/html": [
       "<div>\n",
       "<style scoped>\n",
       "    .dataframe tbody tr th:only-of-type {\n",
       "        vertical-align: middle;\n",
       "    }\n",
       "\n",
       "    .dataframe tbody tr th {\n",
       "        vertical-align: top;\n",
       "    }\n",
       "\n",
       "    .dataframe thead th {\n",
       "        text-align: right;\n",
       "    }\n",
       "</style>\n",
       "<table border=\"1\" class=\"dataframe\">\n",
       "  <thead>\n",
       "    <tr style=\"text-align: right;\">\n",
       "      <th></th>\n",
       "      <th>state</th>\n",
       "      <th>participation_act</th>\n",
       "    </tr>\n",
       "  </thead>\n",
       "  <tbody>\n",
       "    <tr>\n",
       "      <th>0</th>\n",
       "      <td>Alabama</td>\n",
       "      <td>1.0</td>\n",
       "    </tr>\n",
       "    <tr>\n",
       "      <th>17</th>\n",
       "      <td>Kentucky</td>\n",
       "      <td>1.0</td>\n",
       "    </tr>\n",
       "    <tr>\n",
       "      <th>49</th>\n",
       "      <td>Wisconsin</td>\n",
       "      <td>1.0</td>\n",
       "    </tr>\n",
       "    <tr>\n",
       "      <th>44</th>\n",
       "      <td>Utah</td>\n",
       "      <td>1.0</td>\n",
       "    </tr>\n",
       "    <tr>\n",
       "      <th>42</th>\n",
       "      <td>Tennessee</td>\n",
       "      <td>1.0</td>\n",
       "    </tr>\n",
       "    <tr>\n",
       "      <th>36</th>\n",
       "      <td>Oklahoma</td>\n",
       "      <td>1.0</td>\n",
       "    </tr>\n",
       "    <tr>\n",
       "      <th>35</th>\n",
       "      <td>Ohio</td>\n",
       "      <td>1.0</td>\n",
       "    </tr>\n",
       "    <tr>\n",
       "      <th>33</th>\n",
       "      <td>North Carolina</td>\n",
       "      <td>1.0</td>\n",
       "    </tr>\n",
       "    <tr>\n",
       "      <th>28</th>\n",
       "      <td>Nevada</td>\n",
       "      <td>1.0</td>\n",
       "    </tr>\n",
       "    <tr>\n",
       "      <th>27</th>\n",
       "      <td>Nebraska</td>\n",
       "      <td>1.0</td>\n",
       "    </tr>\n",
       "  </tbody>\n",
       "</table>\n",
       "</div>"
      ],
      "text/plain": [
       "             state  participation_act\n",
       "0          Alabama                1.0\n",
       "17        Kentucky                1.0\n",
       "49       Wisconsin                1.0\n",
       "44            Utah                1.0\n",
       "42       Tennessee                1.0\n",
       "36        Oklahoma                1.0\n",
       "35            Ohio                1.0\n",
       "33  North Carolina                1.0\n",
       "28          Nevada                1.0\n",
       "27        Nebraska                1.0"
      ]
     },
     "execution_count": 27,
     "metadata": {},
     "output_type": "execute_result"
    }
   ],
   "source": [
    "# Which states have the highest participation in ACT?\n",
    "df[['state','participation_act']].sort_values('participation_act',ascending=False).head(10)"
   ]
  },
  {
   "cell_type": "markdown",
   "metadata": {},
   "source": [
    "**States with the highest participation in ACT.**"
   ]
  },
  {
   "cell_type": "code",
   "execution_count": 28,
   "metadata": {},
   "outputs": [
    {
     "data": {
      "text/html": [
       "<div>\n",
       "<style scoped>\n",
       "    .dataframe tbody tr th:only-of-type {\n",
       "        vertical-align: middle;\n",
       "    }\n",
       "\n",
       "    .dataframe tbody tr th {\n",
       "        vertical-align: top;\n",
       "    }\n",
       "\n",
       "    .dataframe thead th {\n",
       "        text-align: right;\n",
       "    }\n",
       "</style>\n",
       "<table border=\"1\" class=\"dataframe\">\n",
       "  <thead>\n",
       "    <tr style=\"text-align: right;\">\n",
       "      <th></th>\n",
       "      <th>state</th>\n",
       "      <th>participation_sat</th>\n",
       "    </tr>\n",
       "  </thead>\n",
       "  <tbody>\n",
       "    <tr>\n",
       "      <th>8</th>\n",
       "      <td>District of Columbia</td>\n",
       "      <td>1.00</td>\n",
       "    </tr>\n",
       "    <tr>\n",
       "      <th>22</th>\n",
       "      <td>Michigan</td>\n",
       "      <td>1.00</td>\n",
       "    </tr>\n",
       "    <tr>\n",
       "      <th>6</th>\n",
       "      <td>Connecticut</td>\n",
       "      <td>1.00</td>\n",
       "    </tr>\n",
       "    <tr>\n",
       "      <th>7</th>\n",
       "      <td>Delaware</td>\n",
       "      <td>1.00</td>\n",
       "    </tr>\n",
       "    <tr>\n",
       "      <th>29</th>\n",
       "      <td>New Hampshire</td>\n",
       "      <td>0.96</td>\n",
       "    </tr>\n",
       "    <tr>\n",
       "      <th>19</th>\n",
       "      <td>Maine</td>\n",
       "      <td>0.95</td>\n",
       "    </tr>\n",
       "    <tr>\n",
       "      <th>12</th>\n",
       "      <td>Idaho</td>\n",
       "      <td>0.93</td>\n",
       "    </tr>\n",
       "    <tr>\n",
       "      <th>9</th>\n",
       "      <td>Florida</td>\n",
       "      <td>0.83</td>\n",
       "    </tr>\n",
       "    <tr>\n",
       "      <th>21</th>\n",
       "      <td>Massachusetts</td>\n",
       "      <td>0.76</td>\n",
       "    </tr>\n",
       "    <tr>\n",
       "      <th>39</th>\n",
       "      <td>Rhode Island</td>\n",
       "      <td>0.71</td>\n",
       "    </tr>\n",
       "  </tbody>\n",
       "</table>\n",
       "</div>"
      ],
      "text/plain": [
       "                   state  participation_sat\n",
       "8   District of Columbia               1.00\n",
       "22              Michigan               1.00\n",
       "6            Connecticut               1.00\n",
       "7               Delaware               1.00\n",
       "29         New Hampshire               0.96\n",
       "19                 Maine               0.95\n",
       "12                 Idaho               0.93\n",
       "9                Florida               0.83\n",
       "21         Massachusetts               0.76\n",
       "39          Rhode Island               0.71"
      ]
     },
     "execution_count": 28,
     "metadata": {},
     "output_type": "execute_result"
    }
   ],
   "source": [
    "# Which states have the highest participation in SAT?\n",
    "df[['state','participation_sat']].sort_values('participation_sat',ascending=False).head(10)"
   ]
  },
  {
   "cell_type": "markdown",
   "metadata": {},
   "source": [
    "**States with the highest participation in the SAT.**"
   ]
  },
  {
   "cell_type": "code",
   "execution_count": 29,
   "metadata": {},
   "outputs": [
    {
     "data": {
      "text/html": [
       "<div>\n",
       "<style scoped>\n",
       "    .dataframe tbody tr th:only-of-type {\n",
       "        vertical-align: middle;\n",
       "    }\n",
       "\n",
       "    .dataframe tbody tr th {\n",
       "        vertical-align: top;\n",
       "    }\n",
       "\n",
       "    .dataframe thead th {\n",
       "        text-align: right;\n",
       "    }\n",
       "</style>\n",
       "<table border=\"1\" class=\"dataframe\">\n",
       "  <thead>\n",
       "    <tr style=\"text-align: right;\">\n",
       "      <th></th>\n",
       "      <th>state</th>\n",
       "      <th>math</th>\n",
       "    </tr>\n",
       "  </thead>\n",
       "  <tbody>\n",
       "    <tr>\n",
       "      <th>8</th>\n",
       "      <td>District of Columbia</td>\n",
       "      <td>468</td>\n",
       "    </tr>\n",
       "    <tr>\n",
       "      <th>7</th>\n",
       "      <td>Delaware</td>\n",
       "      <td>492</td>\n",
       "    </tr>\n",
       "    <tr>\n",
       "      <th>12</th>\n",
       "      <td>Idaho</td>\n",
       "      <td>493</td>\n",
       "    </tr>\n",
       "    <tr>\n",
       "      <th>22</th>\n",
       "      <td>Michigan</td>\n",
       "      <td>495</td>\n",
       "    </tr>\n",
       "    <tr>\n",
       "      <th>9</th>\n",
       "      <td>Florida</td>\n",
       "      <td>497</td>\n",
       "    </tr>\n",
       "    <tr>\n",
       "      <th>19</th>\n",
       "      <td>Maine</td>\n",
       "      <td>499</td>\n",
       "    </tr>\n",
       "    <tr>\n",
       "      <th>43</th>\n",
       "      <td>Texas</td>\n",
       "      <td>507</td>\n",
       "    </tr>\n",
       "    <tr>\n",
       "      <th>6</th>\n",
       "      <td>Connecticut</td>\n",
       "      <td>512</td>\n",
       "    </tr>\n",
       "    <tr>\n",
       "      <th>10</th>\n",
       "      <td>Georgia</td>\n",
       "      <td>515</td>\n",
       "    </tr>\n",
       "    <tr>\n",
       "      <th>36</th>\n",
       "      <td>Oklahoma</td>\n",
       "      <td>517</td>\n",
       "    </tr>\n",
       "  </tbody>\n",
       "</table>\n",
       "</div>"
      ],
      "text/plain": [
       "                   state  math\n",
       "8   District of Columbia   468\n",
       "7               Delaware   492\n",
       "12                 Idaho   493\n",
       "22              Michigan   495\n",
       "9                Florida   497\n",
       "19                 Maine   499\n",
       "43                 Texas   507\n",
       "6            Connecticut   512\n",
       "10               Georgia   515\n",
       "36              Oklahoma   517"
      ]
     },
     "execution_count": 29,
     "metadata": {},
     "output_type": "execute_result"
    }
   ],
   "source": [
    "# Which states have the lowest SAT scores in Math?\n",
    "df[['state','math']].sort_values('math',ascending=True).head(10)"
   ]
  },
  {
   "cell_type": "markdown",
   "metadata": {},
   "source": [
    "**States with the lowest SAT scores in Math.**"
   ]
  },
  {
   "cell_type": "code",
   "execution_count": 30,
   "metadata": {},
   "outputs": [
    {
     "data": {
      "text/html": [
       "<div>\n",
       "<style scoped>\n",
       "    .dataframe tbody tr th:only-of-type {\n",
       "        vertical-align: middle;\n",
       "    }\n",
       "\n",
       "    .dataframe tbody tr th {\n",
       "        vertical-align: top;\n",
       "    }\n",
       "\n",
       "    .dataframe thead th {\n",
       "        text-align: right;\n",
       "    }\n",
       "</style>\n",
       "<table border=\"1\" class=\"dataframe\">\n",
       "  <thead>\n",
       "    <tr style=\"text-align: right;\">\n",
       "      <th>act_free</th>\n",
       "      <th>0</th>\n",
       "      <th>1</th>\n",
       "    </tr>\n",
       "  </thead>\n",
       "  <tbody>\n",
       "    <tr>\n",
       "      <th>participation_act</th>\n",
       "      <td>0.435714</td>\n",
       "      <td>0.916875</td>\n",
       "    </tr>\n",
       "    <tr>\n",
       "      <th>composite</th>\n",
       "      <td>22.317143</td>\n",
       "      <td>19.600000</td>\n",
       "    </tr>\n",
       "    <tr>\n",
       "      <th>participation_sat</th>\n",
       "      <td>0.512000</td>\n",
       "      <td>0.148750</td>\n",
       "    </tr>\n",
       "    <tr>\n",
       "      <th>erw</th>\n",
       "      <td>556.371429</td>\n",
       "      <td>597.000000</td>\n",
       "    </tr>\n",
       "    <tr>\n",
       "      <th>math</th>\n",
       "      <td>545.000000</td>\n",
       "      <td>582.875000</td>\n",
       "    </tr>\n",
       "    <tr>\n",
       "      <th>total</th>\n",
       "      <td>1101.457143</td>\n",
       "      <td>1180.000000</td>\n",
       "    </tr>\n",
       "    <tr>\n",
       "      <th>sat_free</th>\n",
       "      <td>0.457143</td>\n",
       "      <td>0.062500</td>\n",
       "    </tr>\n",
       "    <tr>\n",
       "      <th>act_required</th>\n",
       "      <td>0.028571</td>\n",
       "      <td>0.687500</td>\n",
       "    </tr>\n",
       "    <tr>\n",
       "      <th>sat_required</th>\n",
       "      <td>0.342857</td>\n",
       "      <td>0.187500</td>\n",
       "    </tr>\n",
       "  </tbody>\n",
       "</table>\n",
       "</div>"
      ],
      "text/plain": [
       "act_free                     0            1\n",
       "participation_act     0.435714     0.916875\n",
       "composite            22.317143    19.600000\n",
       "participation_sat     0.512000     0.148750\n",
       "erw                 556.371429   597.000000\n",
       "math                545.000000   582.875000\n",
       "total              1101.457143  1180.000000\n",
       "sat_free              0.457143     0.062500\n",
       "act_required          0.028571     0.687500\n",
       "sat_required          0.342857     0.187500"
      ]
     },
     "execution_count": 30,
     "metadata": {},
     "output_type": "execute_result"
    }
   ],
   "source": [
    "df.groupby(['act_free']).mean().T"
   ]
  },
  {
   "cell_type": "markdown",
   "metadata": {},
   "source": [
    "**For the group of states where ACT is provided for free, there are more states where ACT is\n",
    "mandatory than not. For this same group, the participation in ACT is higher than for the group where the ACT\n",
    "is not provided for free by the state.**"
   ]
  },
  {
   "cell_type": "code",
   "execution_count": 31,
   "metadata": {},
   "outputs": [
    {
     "data": {
      "text/html": [
       "<div>\n",
       "<style scoped>\n",
       "    .dataframe tbody tr th:only-of-type {\n",
       "        vertical-align: middle;\n",
       "    }\n",
       "\n",
       "    .dataframe tbody tr th {\n",
       "        vertical-align: top;\n",
       "    }\n",
       "\n",
       "    .dataframe thead th {\n",
       "        text-align: right;\n",
       "    }\n",
       "</style>\n",
       "<table border=\"1\" class=\"dataframe\">\n",
       "  <thead>\n",
       "    <tr style=\"text-align: right;\">\n",
       "      <th>sat_free</th>\n",
       "      <th>0</th>\n",
       "      <th>1</th>\n",
       "    </tr>\n",
       "  </thead>\n",
       "  <tbody>\n",
       "    <tr>\n",
       "      <th>participation_act</th>\n",
       "      <td>0.697059</td>\n",
       "      <td>0.365882</td>\n",
       "    </tr>\n",
       "    <tr>\n",
       "      <th>composite</th>\n",
       "      <td>20.747059</td>\n",
       "      <td>22.900000</td>\n",
       "    </tr>\n",
       "    <tr>\n",
       "      <th>participation_sat</th>\n",
       "      <td>0.275294</td>\n",
       "      <td>0.643529</td>\n",
       "    </tr>\n",
       "    <tr>\n",
       "      <th>erw</th>\n",
       "      <td>582.705882</td>\n",
       "      <td>541.941176</td>\n",
       "    </tr>\n",
       "    <tr>\n",
       "      <th>math</th>\n",
       "      <td>570.235294</td>\n",
       "      <td>530.176471</td>\n",
       "    </tr>\n",
       "    <tr>\n",
       "      <th>total</th>\n",
       "      <td>1153.058824</td>\n",
       "      <td>1072.176471</td>\n",
       "    </tr>\n",
       "    <tr>\n",
       "      <th>act_free</th>\n",
       "      <td>0.441176</td>\n",
       "      <td>0.058824</td>\n",
       "    </tr>\n",
       "    <tr>\n",
       "      <th>act_required</th>\n",
       "      <td>0.352941</td>\n",
       "      <td>0.000000</td>\n",
       "    </tr>\n",
       "    <tr>\n",
       "      <th>sat_required</th>\n",
       "      <td>0.117647</td>\n",
       "      <td>0.647059</td>\n",
       "    </tr>\n",
       "  </tbody>\n",
       "</table>\n",
       "</div>"
      ],
      "text/plain": [
       "sat_free                     0            1\n",
       "participation_act     0.697059     0.365882\n",
       "composite            20.747059    22.900000\n",
       "participation_sat     0.275294     0.643529\n",
       "erw                 582.705882   541.941176\n",
       "math                570.235294   530.176471\n",
       "total              1153.058824  1072.176471\n",
       "act_free              0.441176     0.058824\n",
       "act_required          0.352941     0.000000\n",
       "sat_required          0.117647     0.647059"
      ]
     },
     "execution_count": 31,
     "metadata": {},
     "output_type": "execute_result"
    }
   ],
   "source": [
    "df.groupby(['sat_free']).mean().T"
   ]
  },
  {
   "cell_type": "markdown",
   "metadata": {},
   "source": [
    "**For the group of states where SAT is provided for free, there are more states where SAT is\n",
    "mandatory. For this same group, the participation in SAT is higher than for the group where the SAT\n",
    "is not provided for free by the state.**"
   ]
  },
  {
   "cell_type": "code",
   "execution_count": 32,
   "metadata": {},
   "outputs": [
    {
     "data": {
      "text/html": [
       "<div>\n",
       "<style scoped>\n",
       "    .dataframe tbody tr th:only-of-type {\n",
       "        vertical-align: middle;\n",
       "    }\n",
       "\n",
       "    .dataframe tbody tr th {\n",
       "        vertical-align: top;\n",
       "    }\n",
       "\n",
       "    .dataframe thead th {\n",
       "        text-align: right;\n",
       "    }\n",
       "</style>\n",
       "<table border=\"1\" class=\"dataframe\">\n",
       "  <thead>\n",
       "    <tr style=\"text-align: right;\">\n",
       "      <th>act_required</th>\n",
       "      <th>0</th>\n",
       "      <th>1</th>\n",
       "    </tr>\n",
       "  </thead>\n",
       "  <tbody>\n",
       "    <tr>\n",
       "      <th>participation_act</th>\n",
       "      <td>0.464615</td>\n",
       "      <td>0.983333</td>\n",
       "    </tr>\n",
       "    <tr>\n",
       "      <th>composite</th>\n",
       "      <td>22.120513</td>\n",
       "      <td>19.333333</td>\n",
       "    </tr>\n",
       "    <tr>\n",
       "      <th>participation_sat</th>\n",
       "      <td>0.477692</td>\n",
       "      <td>0.139167</td>\n",
       "    </tr>\n",
       "    <tr>\n",
       "      <th>erw</th>\n",
       "      <td>558.384615</td>\n",
       "      <td>604.000000</td>\n",
       "    </tr>\n",
       "    <tr>\n",
       "      <th>math</th>\n",
       "      <td>546.358974</td>\n",
       "      <td>591.083333</td>\n",
       "    </tr>\n",
       "    <tr>\n",
       "      <th>total</th>\n",
       "      <td>1104.846154</td>\n",
       "      <td>1195.166667</td>\n",
       "    </tr>\n",
       "    <tr>\n",
       "      <th>act_free</th>\n",
       "      <td>0.128205</td>\n",
       "      <td>0.916667</td>\n",
       "    </tr>\n",
       "    <tr>\n",
       "      <th>sat_free</th>\n",
       "      <td>0.435897</td>\n",
       "      <td>0.000000</td>\n",
       "    </tr>\n",
       "    <tr>\n",
       "      <th>sat_required</th>\n",
       "      <td>0.384615</td>\n",
       "      <td>0.000000</td>\n",
       "    </tr>\n",
       "  </tbody>\n",
       "</table>\n",
       "</div>"
      ],
      "text/plain": [
       "act_required                 0            1\n",
       "participation_act     0.464615     0.983333\n",
       "composite            22.120513    19.333333\n",
       "participation_sat     0.477692     0.139167\n",
       "erw                 558.384615   604.000000\n",
       "math                546.358974   591.083333\n",
       "total              1104.846154  1195.166667\n",
       "act_free              0.128205     0.916667\n",
       "sat_free              0.435897     0.000000\n",
       "sat_required          0.384615     0.000000"
      ]
     },
     "execution_count": 32,
     "metadata": {},
     "output_type": "execute_result"
    }
   ],
   "source": [
    "df.groupby(['act_required']).mean().T"
   ]
  },
  {
   "cell_type": "markdown",
   "metadata": {},
   "source": [
    "**For the group where ACT is mandatory we notice it is also mostly free and covered by the state. Scores tend to be lower, which could be due to added pressure caused by the students having to take the exam.**"
   ]
  },
  {
   "cell_type": "code",
   "execution_count": 33,
   "metadata": {},
   "outputs": [
    {
     "data": {
      "text/html": [
       "<div>\n",
       "<style scoped>\n",
       "    .dataframe tbody tr th:only-of-type {\n",
       "        vertical-align: middle;\n",
       "    }\n",
       "\n",
       "    .dataframe tbody tr th {\n",
       "        vertical-align: top;\n",
       "    }\n",
       "\n",
       "    .dataframe thead th {\n",
       "        text-align: right;\n",
       "    }\n",
       "</style>\n",
       "<table border=\"1\" class=\"dataframe\">\n",
       "  <thead>\n",
       "    <tr style=\"text-align: right;\">\n",
       "      <th>sat_required</th>\n",
       "      <th>0</th>\n",
       "      <th>1</th>\n",
       "    </tr>\n",
       "  </thead>\n",
       "  <tbody>\n",
       "    <tr>\n",
       "      <th>participation_act</th>\n",
       "      <td>0.653889</td>\n",
       "      <td>0.425333</td>\n",
       "    </tr>\n",
       "    <tr>\n",
       "      <th>composite</th>\n",
       "      <td>20.963889</td>\n",
       "      <td>22.666667</td>\n",
       "    </tr>\n",
       "    <tr>\n",
       "      <th>participation_sat</th>\n",
       "      <td>0.324167</td>\n",
       "      <td>0.575333</td>\n",
       "    </tr>\n",
       "    <tr>\n",
       "      <th>erw</th>\n",
       "      <td>580.750000</td>\n",
       "      <td>541.200000</td>\n",
       "    </tr>\n",
       "    <tr>\n",
       "      <th>math</th>\n",
       "      <td>569.638889</td>\n",
       "      <td>526.266667</td>\n",
       "    </tr>\n",
       "    <tr>\n",
       "      <th>total</th>\n",
       "      <td>1150.500000</td>\n",
       "      <td>1067.533333</td>\n",
       "    </tr>\n",
       "    <tr>\n",
       "      <th>act_free</th>\n",
       "      <td>0.361111</td>\n",
       "      <td>0.200000</td>\n",
       "    </tr>\n",
       "    <tr>\n",
       "      <th>sat_free</th>\n",
       "      <td>0.166667</td>\n",
       "      <td>0.733333</td>\n",
       "    </tr>\n",
       "    <tr>\n",
       "      <th>act_required</th>\n",
       "      <td>0.333333</td>\n",
       "      <td>0.000000</td>\n",
       "    </tr>\n",
       "  </tbody>\n",
       "</table>\n",
       "</div>"
      ],
      "text/plain": [
       "sat_required                 0            1\n",
       "participation_act     0.653889     0.425333\n",
       "composite            20.963889    22.666667\n",
       "participation_sat     0.324167     0.575333\n",
       "erw                 580.750000   541.200000\n",
       "math                569.638889   526.266667\n",
       "total              1150.500000  1067.533333\n",
       "act_free              0.361111     0.200000\n",
       "sat_free              0.166667     0.733333\n",
       "act_required          0.333333     0.000000"
      ]
     },
     "execution_count": 33,
     "metadata": {},
     "output_type": "execute_result"
    }
   ],
   "source": [
    "df.groupby(['sat_required']).mean().T"
   ]
  },
  {
   "cell_type": "markdown",
   "metadata": {},
   "source": [
    "**For the group of states where SAT is mandatory, participation in the SAT is higher, and the exam is oferred for free over 50% of the time.**"
   ]
  },
  {
   "cell_type": "markdown",
   "metadata": {},
   "source": [
    "## Data Visualization"
   ]
  },
  {
   "cell_type": "code",
   "execution_count": 34,
   "metadata": {},
   "outputs": [
    {
     "data": {
      "text/html": [
       "<div>\n",
       "<style scoped>\n",
       "    .dataframe tbody tr th:only-of-type {\n",
       "        vertical-align: middle;\n",
       "    }\n",
       "\n",
       "    .dataframe tbody tr th {\n",
       "        vertical-align: top;\n",
       "    }\n",
       "\n",
       "    .dataframe thead th {\n",
       "        text-align: right;\n",
       "    }\n",
       "</style>\n",
       "<table border=\"1\" class=\"dataframe\">\n",
       "  <thead>\n",
       "    <tr style=\"text-align: right;\">\n",
       "      <th></th>\n",
       "      <th>state</th>\n",
       "      <th>participation_act</th>\n",
       "      <th>composite</th>\n",
       "      <th>participation_sat</th>\n",
       "      <th>erw</th>\n",
       "      <th>math</th>\n",
       "      <th>total</th>\n",
       "      <th>act_free</th>\n",
       "      <th>sat_free</th>\n",
       "      <th>act_required</th>\n",
       "      <th>sat_required</th>\n",
       "    </tr>\n",
       "  </thead>\n",
       "  <tbody>\n",
       "    <tr>\n",
       "      <th>0</th>\n",
       "      <td>Alabama</td>\n",
       "      <td>1.00</td>\n",
       "      <td>18.9</td>\n",
       "      <td>0.05</td>\n",
       "      <td>593</td>\n",
       "      <td>572</td>\n",
       "      <td>1165</td>\n",
       "      <td>1</td>\n",
       "      <td>0</td>\n",
       "      <td>1</td>\n",
       "      <td>0</td>\n",
       "    </tr>\n",
       "    <tr>\n",
       "      <th>1</th>\n",
       "      <td>Alaska</td>\n",
       "      <td>0.38</td>\n",
       "      <td>20.1</td>\n",
       "      <td>0.38</td>\n",
       "      <td>547</td>\n",
       "      <td>533</td>\n",
       "      <td>1080</td>\n",
       "      <td>0</td>\n",
       "      <td>0</td>\n",
       "      <td>0</td>\n",
       "      <td>0</td>\n",
       "    </tr>\n",
       "    <tr>\n",
       "      <th>2</th>\n",
       "      <td>Arizona</td>\n",
       "      <td>0.73</td>\n",
       "      <td>19.0</td>\n",
       "      <td>0.30</td>\n",
       "      <td>563</td>\n",
       "      <td>553</td>\n",
       "      <td>1116</td>\n",
       "      <td>0</td>\n",
       "      <td>1</td>\n",
       "      <td>0</td>\n",
       "      <td>0</td>\n",
       "    </tr>\n",
       "    <tr>\n",
       "      <th>3</th>\n",
       "      <td>Arkansas</td>\n",
       "      <td>1.00</td>\n",
       "      <td>19.3</td>\n",
       "      <td>0.03</td>\n",
       "      <td>614</td>\n",
       "      <td>594</td>\n",
       "      <td>1208</td>\n",
       "      <td>1</td>\n",
       "      <td>0</td>\n",
       "      <td>0</td>\n",
       "      <td>0</td>\n",
       "    </tr>\n",
       "    <tr>\n",
       "      <th>4</th>\n",
       "      <td>California</td>\n",
       "      <td>0.23</td>\n",
       "      <td>22.6</td>\n",
       "      <td>0.53</td>\n",
       "      <td>531</td>\n",
       "      <td>524</td>\n",
       "      <td>1055</td>\n",
       "      <td>0</td>\n",
       "      <td>0</td>\n",
       "      <td>0</td>\n",
       "      <td>0</td>\n",
       "    </tr>\n",
       "  </tbody>\n",
       "</table>\n",
       "</div>"
      ],
      "text/plain": [
       "        state  participation_act  composite  participation_sat  erw  math  \\\n",
       "0     Alabama               1.00       18.9               0.05  593   572   \n",
       "1      Alaska               0.38       20.1               0.38  547   533   \n",
       "2     Arizona               0.73       19.0               0.30  563   553   \n",
       "3    Arkansas               1.00       19.3               0.03  614   594   \n",
       "4  California               0.23       22.6               0.53  531   524   \n",
       "\n",
       "   total  act_free  sat_free  act_required  sat_required  \n",
       "0   1165         1         0             1             0  \n",
       "1   1080         0         0             0             0  \n",
       "2   1116         0         1             0             0  \n",
       "3   1208         1         0             0             0  \n",
       "4   1055         0         0             0             0  "
      ]
     },
     "execution_count": 34,
     "metadata": {},
     "output_type": "execute_result"
    }
   ],
   "source": [
    "# Code\n",
    "\n",
    "df.head()"
   ]
  },
  {
   "cell_type": "code",
   "execution_count": 35,
   "metadata": {},
   "outputs": [
    {
     "data": {
      "image/png": "[encoded data removed]",
      "text/plain": [
       "<Figure size 864x360 with 1 Axes>"
      ]
     },
     "metadata": {
      "needs_background": "light"
     },
     "output_type": "display_data"
    }
   ],
   "source": [
    "f = plt.figure(figsize=(12,5))\n",
    "plt.scatter(df['math'],df['erw'])\n",
    "plt.title('SAT Math Scores and SAT ERW Scores')\n",
    "plt.xlabel('SAT Math Score', fontsize=12)\n",
    "plt.ylabel('SAT ERW Score', fontsize=12);\n",
    "# There is a strong positive correlation between the SAT Math and SAT ERW scores.\n",
    "f.savefig(\"./images/fig1.jpeg\", bbox_inches='tight', dpi=600)"
   ]
  },
  {
   "cell_type": "markdown",
   "metadata": {},
   "source": [
    "*Interpretation: There is a strong positive correlation between the SAT Math and SAT ERW scores.\n",
    "Students who scored higher on the Math scored higher on the ERW test as well.*"
   ]
  },
  {
   "cell_type": "code",
   "execution_count": 36,
   "metadata": {},
   "outputs": [
    {
     "data": {
      "image/png": "[encoded data removed]",
      "text/plain": [
       "<Figure size 864x360 with 1 Axes>"
      ]
     },
     "metadata": {
      "needs_background": "light"
     },
     "output_type": "display_data"
    }
   ],
   "source": [
    "plt.figure(figsize=(12,5))\n",
    "plt.scatter(df['participation_act'],df['participation_sat'])\n",
    "plt.title('ACT/SAT Participation')\n",
    "plt.xlabel('ACT Participation', fontsize=12)\n",
    "plt.ylabel('SAT Participation', fontsize=12);\n",
    "# We observe a very weak negative correlation between ACT participaton and SAT participation.\n",
    "# This is to be expected, as students taking the ACT are less likely to take the SAT and vice-versa."
   ]
  },
  {
   "cell_type": "markdown",
   "metadata": {},
   "source": [
    "*Interpretation: We observe a very weak negative correlation between ACT participaton and SAT participation.\n",
    "This is to be expected, as students taking the ACT are less likely to take the SAT and vice-versa.*"
   ]
  },
  {
   "cell_type": "code",
   "execution_count": 37,
   "metadata": {},
   "outputs": [
    {
     "data": {
      "image/png": "[encoded data removed]",
      "text/plain": [
       "<Figure size 864x360 with 1 Axes>"
      ]
     },
     "metadata": {
      "needs_background": "light"
     },
     "output_type": "display_data"
    }
   ],
   "source": [
    "f = plt.figure(figsize=(12,5))\n",
    "plt.hist(df['composite'], bins=10)\n",
    "plt.title('Distribution of ACT Composite Scores', fontsize=15)\n",
    "plt.xlabel('Composite ACT Scores', fontsize=12)\n",
    "plt.ylabel('Frequency', fontsize=12);\n",
    "f.savefig(\"./images/fig2.jpeg\", bbox_inches='tight', dpi=600)\n",
    "# We observe a bimodal distribution, where our final distribution is made up of two separate distributions. \n",
    "# One for students scoring between 17 and 21 on the ACT, and one for students scoring 22 and up."
   ]
  },
  {
   "cell_type": "markdown",
   "metadata": {},
   "source": [
    "*Interpretation: We observe a bimodal distribution, where our final distribution is made up of two separate distributions - One for students scoring between 17 and 21 on the ACT, and one for students scoring 22 and up. Most students scored between 18.5 and 20 on the ACT in 2019.*"
   ]
  },
  {
   "cell_type": "code",
   "execution_count": 38,
   "metadata": {},
   "outputs": [
    {
     "data": {
      "image/png": "[encoded data removed]",
      "text/plain": [
       "<Figure size 864x360 with 1 Axes>"
      ]
     },
     "metadata": {
      "needs_background": "light"
     },
     "output_type": "display_data"
    }
   ],
   "source": [
    "plt.figure(figsize=(12,5))\n",
    "plt.hist(df['total'], bins=10)\n",
    "plt.title('Distribution of SAT Total Scores', fontsize=15)\n",
    "plt.xlabel('Total SAT Scores', fontsize=12)\n",
    "plt.ylabel('Frequency', fontsize=12);"
   ]
  },
  {
   "cell_type": "markdown",
   "metadata": {},
   "source": [
    "*Interpretation: We observe a bimodal distribution, where our final distribution is made up of two separate distributions - One for students scoring between 950 and 1150 on the SAT, and one for students scoring 1150 and up. Most students scored between 1050 and 1100 on their SAT in 2019.*"
   ]
  },
  {
   "cell_type": "code",
   "execution_count": 39,
   "metadata": {},
   "outputs": [
    {
     "data": {
      "text/html": [
       "<div>\n",
       "<style scoped>\n",
       "    .dataframe tbody tr th:only-of-type {\n",
       "        vertical-align: middle;\n",
       "    }\n",
       "\n",
       "    .dataframe tbody tr th {\n",
       "        vertical-align: top;\n",
       "    }\n",
       "\n",
       "    .dataframe thead th {\n",
       "        text-align: right;\n",
       "    }\n",
       "</style>\n",
       "<table border=\"1\" class=\"dataframe\">\n",
       "  <thead>\n",
       "    <tr style=\"text-align: right;\">\n",
       "      <th></th>\n",
       "      <th>state</th>\n",
       "      <th>participation_act</th>\n",
       "      <th>composite</th>\n",
       "      <th>participation_sat</th>\n",
       "      <th>erw</th>\n",
       "      <th>math</th>\n",
       "      <th>total</th>\n",
       "      <th>act_free</th>\n",
       "      <th>sat_free</th>\n",
       "      <th>act_required</th>\n",
       "      <th>sat_required</th>\n",
       "    </tr>\n",
       "  </thead>\n",
       "  <tbody>\n",
       "    <tr>\n",
       "      <th>0</th>\n",
       "      <td>Alabama</td>\n",
       "      <td>1.00</td>\n",
       "      <td>18.9</td>\n",
       "      <td>0.05</td>\n",
       "      <td>593</td>\n",
       "      <td>572</td>\n",
       "      <td>1165</td>\n",
       "      <td>1</td>\n",
       "      <td>0</td>\n",
       "      <td>1</td>\n",
       "      <td>0</td>\n",
       "    </tr>\n",
       "    <tr>\n",
       "      <th>1</th>\n",
       "      <td>Alaska</td>\n",
       "      <td>0.38</td>\n",
       "      <td>20.1</td>\n",
       "      <td>0.38</td>\n",
       "      <td>547</td>\n",
       "      <td>533</td>\n",
       "      <td>1080</td>\n",
       "      <td>0</td>\n",
       "      <td>0</td>\n",
       "      <td>0</td>\n",
       "      <td>0</td>\n",
       "    </tr>\n",
       "    <tr>\n",
       "      <th>2</th>\n",
       "      <td>Arizona</td>\n",
       "      <td>0.73</td>\n",
       "      <td>19.0</td>\n",
       "      <td>0.30</td>\n",
       "      <td>563</td>\n",
       "      <td>553</td>\n",
       "      <td>1116</td>\n",
       "      <td>0</td>\n",
       "      <td>1</td>\n",
       "      <td>0</td>\n",
       "      <td>0</td>\n",
       "    </tr>\n",
       "    <tr>\n",
       "      <th>3</th>\n",
       "      <td>Arkansas</td>\n",
       "      <td>1.00</td>\n",
       "      <td>19.3</td>\n",
       "      <td>0.03</td>\n",
       "      <td>614</td>\n",
       "      <td>594</td>\n",
       "      <td>1208</td>\n",
       "      <td>1</td>\n",
       "      <td>0</td>\n",
       "      <td>0</td>\n",
       "      <td>0</td>\n",
       "    </tr>\n",
       "    <tr>\n",
       "      <th>4</th>\n",
       "      <td>California</td>\n",
       "      <td>0.23</td>\n",
       "      <td>22.6</td>\n",
       "      <td>0.53</td>\n",
       "      <td>531</td>\n",
       "      <td>524</td>\n",
       "      <td>1055</td>\n",
       "      <td>0</td>\n",
       "      <td>0</td>\n",
       "      <td>0</td>\n",
       "      <td>0</td>\n",
       "    </tr>\n",
       "  </tbody>\n",
       "</table>\n",
       "</div>"
      ],
      "text/plain": [
       "        state  participation_act  composite  participation_sat  erw  math  \\\n",
       "0     Alabama               1.00       18.9               0.05  593   572   \n",
       "1      Alaska               0.38       20.1               0.38  547   533   \n",
       "2     Arizona               0.73       19.0               0.30  563   553   \n",
       "3    Arkansas               1.00       19.3               0.03  614   594   \n",
       "4  California               0.23       22.6               0.53  531   524   \n",
       "\n",
       "   total  act_free  sat_free  act_required  sat_required  \n",
       "0   1165         1         0             1             0  \n",
       "1   1080         0         0             0             0  \n",
       "2   1116         0         1             0             0  \n",
       "3   1208         1         0             0             0  \n",
       "4   1055         0         0             0             0  "
      ]
     },
     "execution_count": 39,
     "metadata": {},
     "output_type": "execute_result"
    }
   ],
   "source": [
    "df.head()"
   ]
  },
  {
   "cell_type": "code",
   "execution_count": 40,
   "metadata": {},
   "outputs": [
    {
     "data": {
      "image/png": "[encoded data removed]",
      "text/plain": [
       "<Figure size 864x360 with 1 Axes>"
      ]
     },
     "metadata": {
      "needs_background": "light"
     },
     "output_type": "display_data"
    }
   ],
   "source": [
    "plt.figure(figsize=(12,5))\n",
    "plt.hist(df['math'], bins=10)\n",
    "plt.title('Distribution of SAT Math Scores', fontsize=15)\n",
    "plt.xlabel('SAT Math Scores', fontsize=12)\n",
    "plt.ylabel('Frequency', fontsize=12);"
   ]
  },
  {
   "cell_type": "markdown",
   "metadata": {},
   "source": [
    "*Interpretation: We observe two distributions, one for scores less than 565, \n",
    "and one for scores higher than 565. Most students score between 525 and 550 on their SAT Math test.*"
   ]
  },
  {
   "cell_type": "code",
   "execution_count": 41,
   "metadata": {},
   "outputs": [
    {
     "data": {
      "image/png": "[encoded data removed]",
      "text/plain": [
       "<Figure size 864x360 with 1 Axes>"
      ]
     },
     "metadata": {
      "needs_background": "light"
     },
     "output_type": "display_data"
    }
   ],
   "source": [
    "plt.figure(figsize=(12,5))\n",
    "plt.hist(df['erw'], bins=10)\n",
    "plt.title('Distribution of SAT ERW Scores', fontsize=15)\n",
    "plt.xlabel('SAT ERW Scores', fontsize=12)\n",
    "plt.ylabel('Frequency', fontsize=12);\n",
    "# "
   ]
  },
  {
   "cell_type": "markdown",
   "metadata": {},
   "source": [
    "*Interpretation: Most students are scoring between 530 and 560, and around the 640 score value on the SAT ERW test.*"
   ]
  },
  {
   "cell_type": "code",
   "execution_count": 42,
   "metadata": {},
   "outputs": [
    {
     "data": {
      "image/png": "[encoded data removed]",
      "text/plain": [
       "<Figure size 1080x360 with 1 Axes>"
      ]
     },
     "metadata": {
      "needs_background": "light"
     },
     "output_type": "display_data"
    }
   ],
   "source": [
    "temp = df[['state','math']].sort_values('math',ascending=False).head(15)\n",
    "plt.figure(figsize=(15,5))\n",
    "plt.barh(y=temp['state'],width=temp['math'],data=temp, color='teal');\n",
    "plt.title('States with the lowest SAT Math Scores', fontsize=15);\n",
    "plt.ylabel('Name of the state', fontsize=12)\n",
    "plt.xlabel('Math SAT Score', fontsize=12);\n",
    "# These are states with low scores on the SAT Math portion, so worth being considered for\n",
    "# targeted advertising."
   ]
  },
  {
   "cell_type": "markdown",
   "metadata": {},
   "source": [
    "*Interpretation: These are states with the lowest scores on the SAT Math portion, so worth being considered for targeted advertising.*"
   ]
  },
  {
   "cell_type": "code",
   "execution_count": 43,
   "metadata": {},
   "outputs": [
    {
     "data": {
      "image/png": "[encoded data removed]",
      "text/plain": [
       "<Figure size 1080x360 with 1 Axes>"
      ]
     },
     "metadata": {
      "needs_background": "light"
     },
     "output_type": "display_data"
    }
   ],
   "source": [
    "temp = df[['state','total']].sort_values('total',ascending=False).head(15)\n",
    "plt.figure(figsize=(15,5))\n",
    "plt.barh(y=temp['state'],width=temp['total'],data=temp, color='teal');\n",
    "plt.title('States with the lowest SAT Total Scores', fontsize=15);\n",
    "plt.ylabel('Name of the state', fontsize=12)\n",
    "plt.xlabel('Total SAT Score', fontsize=12);\n",
    "# These are states with lowest Total SAT scores, so worth being considered for targeted advertising.\n",
    "# States with the lowest SAT scores: Colorado, Arkansas, South Dakota, Tennessee, and Wyoming."
   ]
  },
  {
   "cell_type": "markdown",
   "metadata": {},
   "source": [
    "*Interpretation: These are states with the lowest SAT scores, so worth being considered for targeted advertising.*"
   ]
  },
  {
   "cell_type": "code",
   "execution_count": 44,
   "metadata": {},
   "outputs": [
    {
     "data": {
      "image/png": "[encoded data removed]",
      "text/plain": [
       "<Figure size 1080x360 with 1 Axes>"
      ]
     },
     "metadata": {
      "needs_background": "light"
     },
     "output_type": "display_data"
    }
   ],
   "source": [
    "temp = df[['state','composite']].sort_values('composite',ascending=False).head(15)\n",
    "plt.figure(figsize=(15,5))\n",
    "plt.barh(y=temp['state'],width=temp['composite'],data=temp, color='teal');\n",
    "plt.title('Top states with the lowest ACT Composite Scores', fontsize=15);\n",
    "plt.ylabel('Name of the state', fontsize=12)\n",
    "plt.xlabel('Composite ACT Score', fontsize=12);\n",
    "# These are states with the lowest ACT scores, so worth being considered for targeted advertising.\n",
    "# States with the lowest ACT scores: District of Columbia, Pennsylvania, Colorado, Virginia, Delaware."
   ]
  },
  {
   "cell_type": "markdown",
   "metadata": {},
   "source": [
    "*Interpretation: These are states with the lowest ACT scores, so worth being considered for targeted advertising.*"
   ]
  },
  {
   "cell_type": "code",
   "execution_count": 45,
   "metadata": {},
   "outputs": [
    {
     "data": {
      "image/png": "[encoded data removed]",
      "text/plain": [
       "<Figure size 1080x360 with 1 Axes>"
      ]
     },
     "metadata": {
      "needs_background": "light"
     },
     "output_type": "display_data"
    }
   ],
   "source": [
    "temp = df[['state','participation_act']].sort_values('participation_act',ascending=True).head(15)\n",
    "plt.figure(figsize=(15,5))\n",
    "plt.barh(y=temp['state'],width=temp['participation_act'],data=temp, color='teal');\n",
    "plt.title('States with the highest ACT participation', fontsize=15);\n",
    "plt.ylabel('Name of the state', fontsize=12)\n",
    "plt.xlabel('ACT Participation', fontsize=12);\n",
    "# These are states with the highest ACT participation, so worth being considered for targeted advertising.\n",
    "# Colorado, New Jersey, Washington, Connecticut, New York."
   ]
  },
  {
   "cell_type": "markdown",
   "metadata": {},
   "source": [
    "*Interpretation: These are states with the highest ACT participation, so worth being considered for targeted advertising.*"
   ]
  },
  {
   "cell_type": "code",
   "execution_count": 46,
   "metadata": {},
   "outputs": [
    {
     "data": {
      "image/png": "[encoded data removed]",
      "text/plain": [
       "<Figure size 1080x360 with 1 Axes>"
      ]
     },
     "metadata": {
      "needs_background": "light"
     },
     "output_type": "display_data"
    }
   ],
   "source": [
    "temp = df[['state','participation_sat']].sort_values('participation_sat',ascending=True).head(15)\n",
    "plt.figure(figsize=(15,5))\n",
    "plt.barh(y=temp['state'],width=temp['participation_sat'],data=temp, color='teal');\n",
    "plt.title('States with the highest SAT participation', fontsize=15);\n",
    "plt.ylabel('Name of the state', fontsize=12)\n",
    "plt.xlabel('SAT Participation', fontsize=12);\n",
    "# These are states with the highest SAT participation, so worth being considered for targeted advertising.\n",
    "# Alabama, Lousiana, Kentuky, Kansas, Arkansas."
   ]
  },
  {
   "cell_type": "markdown",
   "metadata": {},
   "source": [
    "*Interpretation: These are states with the highest SAT participation, so worth being considered for targeted advertising. States with high rates of participation may have students interested in additional prep work for the test.*"
   ]
  },
  {
   "cell_type": "code",
   "execution_count": 47,
   "metadata": {},
   "outputs": [
    {
     "data": {
      "image/png": "[encoded data removed]",
      "text/plain": [
       "<Figure size 864x360 with 1 Axes>"
      ]
     },
     "metadata": {
      "needs_background": "light"
     },
     "output_type": "display_data"
    }
   ],
   "source": [
    "f = plt.figure(figsize=(12,5))\n",
    "plt.hist(df['participation_act'], bins=10, label='ACT')\n",
    "plt.title('ACT participation vs SAT participation in 2019', fontsize=15)\n",
    "#plt.xlabel('ACT Participation', fontsize=12)\n",
    "plt.ylabel('Frequency', fontsize=12)\n",
    "\n",
    "#plt.figure(figsize=(12,5))\n",
    "plt.hist(df['participation_sat'], bins=10, label='SAT')\n",
    "#plt.title('Distribution of SAT Participation', fontsize=15)\n",
    "#plt.xlabel('SAT Participation', fontsize=12)\n",
    "#plt.ylabel('Frequency', fontsize=12);\n",
    "plt.legend()\n",
    "f.savefig(\"./images/fig5.jpeg\", bbox_inches=\"tight\", dpi=600);"
   ]
  },
  {
   "cell_type": "markdown",
   "metadata": {},
   "source": [
    "*Interpretation: More states had 100% participation in the ACT than the SAT in 2019. ACT has higher participation rates and seems to be more popular in 2019.*"
   ]
  },
  {
   "cell_type": "code",
   "execution_count": 48,
   "metadata": {},
   "outputs": [
    {
     "data": {
      "image/png": "[encoded data removed]",
      "text/plain": [
       "<Figure size 1080x360 with 1 Axes>"
      ]
     },
     "metadata": {
      "needs_background": "light"
     },
     "output_type": "display_data"
    }
   ],
   "source": [
    "temp = df[(df['act_free'] == 1) & (df['act_required'] == 1)]\n",
    "\n",
    "temp = temp[['state','composite']].sort_values('composite',ascending=False).head(15)\n",
    "f = plt.figure(figsize=(15,5))\n",
    "\n",
    "barlist = plt.barh(y=temp['state'],width=temp['composite'],data=temp, color='teal')\n",
    "for i in range(1,6):\n",
    "    barlist[-i].set_color('c');\n",
    "\n",
    "plt.title('States with the lowest ACT Scores where ACT is free and mandatory', fontsize=15);\n",
    "plt.ylabel('Name of the state', fontsize=12)\n",
    "plt.xlabel('ACT Composite Scores', fontsize=12);\n",
    "f.savefig(\"./images/fig4.jpeg\", bbox_inches=\"tight\", dpi=600)\n",
    "# These are states where ACT is free and mandatory, and scores are lowest.\n",
    "# Since it is free and mandatory, more students may take it.\n",
    "# Since the scores are lowest, they may be interested in tutoring.\n",
    "# So worth being considered for targeted advertising.\n",
    "# Nevada, Mississippi, Louisiana, Alabama, North Carolina."
   ]
  },
  {
   "cell_type": "markdown",
   "metadata": {},
   "source": [
    "*Interpretation: States that offer ACT free of cost and require it, but also have the lowest scores. Since the scores are low, but the exam is mandatory and free, there would be a lot of interest in additional prep-work for the exam.*"
   ]
  },
  {
   "cell_type": "code",
   "execution_count": 49,
   "metadata": {},
   "outputs": [
    {
     "data": {
      "image/png": "[encoded data removed]",
      "text/plain": [
       "<Figure size 1080x360 with 1 Axes>"
      ]
     },
     "metadata": {
      "needs_background": "light"
     },
     "output_type": "display_data"
    }
   ],
   "source": [
    "temp = df[(df['sat_free'] == 1) & (df['sat_required'] == 1)]\n",
    "\n",
    "temp = temp[['state','total']].sort_values('total',ascending=False).head(15)\n",
    "f = plt.figure(figsize=(15,5))\n",
    "\n",
    "barlist = plt.barh(y=temp['state'],width=temp['total'],data=temp, color='teal');\n",
    "for i in range(1,6):\n",
    "    barlist[-i].set_color('c');\n",
    "\n",
    "plt.title('States with the lowest SAT Scores where SAT is free and mandatory', fontsize=15);\n",
    "plt.ylabel('Name of the state', fontsize=12)\n",
    "plt.xlabel('SAT Scores', fontsize=12);\n",
    "f.savefig(\"./images/fig3.jpeg\", bbox_inches='tight', dpi=600)\n",
    "# These are states where SAT is free, mandatory, and scores are lowest.\n",
    "# Since it is free and mandatory, more students will take it.\n",
    "# Since the scores are lowest, they may be interested in tutoring to increase their scores.\n",
    "# So worth being considered for targeted advertising.\n",
    "# District of Columbia, Delaware, Michigan, Idaho, Maine."
   ]
  },
  {
   "cell_type": "markdown",
   "metadata": {},
   "source": [
    "*Interpretation: States that offer SAT free of cost and require it, but also have the lowest scores. Since the scores are low, but the exam is mandatory and free, there would be a lot of interest in additional prep-work for the exam.*"
   ]
  },
  {
   "cell_type": "markdown",
   "metadata": {},
   "source": [
    "## Conclusions and Recommendations"
   ]
  },
  {
   "cell_type": "markdown",
   "metadata": {},
   "source": [
    "**Conclusions:**\n",
    "1. There is a strong positive correlation between SAT Math and SAT ERW scores, meaning students who score high/low on the Math section are likely to score high/low on the ERW section as well.\n",
    "2. There is a weak negative correlation between ACT participation and SAT participation, meaning a state where ACT participation is high will most likely have lower participation in the SAT.\n",
    "3. Most students scored between 19 and 20 on the ACT.\n",
    "4. Most students scored between 1075 and 1100 on the SAT.\n",
    "5. Students tend to score between 525 and 550 on the SAT Math section.\n",
    "6. Students tend to score between 530 and 550 on the SAT ERW section.\n",
    "7. States with the lowest SAT scores: Colorado, Arkansas, South Dakota, Tennessee, Wyoming.\n",
    "8. States with the highest participation in SAT: Alabama, Lousiana, Kentuky, Kansas, Arkansas.\n",
    "9. States where the SAT is free and mandatory, and report lowest SAT scores: District of Columbia, Delaware, Michigan, Idaho, Maine.\n",
    "10. States with the lowest ACT scores: District of Columbia, Pennsylvania, Colorado, Virginia, Delaware.\n",
    "11. States with the highest participation in ACT: Colorado, New Jersey, Washington, Connecticut, New York.\n",
    "12. States where the ACT is free and mandatory, and report lowest ACT scores: Nevada, Mississippi, Louisiana, Alabama, North Carolina.\n",
    "\n",
    "\n",
    "**Recommendations:**\n",
    "\n",
    "1. Higher SAT Math scores are linked to higher SAT ERW scores.\n",
    "2. ACT is more popular and mandatory in more states.\n",
    "3. ACT Prep Programs should be emphasized in the following states: Nevada, Mississippi, Louisiana, Alabama, and North Carolina.\n",
    "4. SAT Prep Programs should be emphasized in the following states: District of Columbia, Delaware, Michigan, Idaho, and Maine."
   ]
  }
 ],
 "metadata": {
  "anaconda-cloud": {},
  "kernelspec": {
   "display_name": "Python 3",
   "language": "python",
   "name": "python3"
  },
  "language_info": {
   "codemirror_mode": {
    "name": "ipython",
    "version": 3
   },
   "file_extension": ".py",
   "mimetype": "text/x-python",
   "name": "python",
   "nbconvert_exporter": "python",
   "pygments_lexer": "ipython3",
   "version": "3.8.3"
  }
 },
 "nbformat": 4,
 "nbformat_minor": 4
}
